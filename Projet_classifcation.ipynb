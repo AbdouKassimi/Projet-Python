{
 "cells": [
  {
   "cell_type": "markdown",
   "metadata": {},
   "source": [
    "<table style=\"width: 494px; height: 52px;\" width=\"260\">\n",
    "<tbody>\n",
    "<tr style=\"height: 52px;\">\n",
    "<td style=\"width: 484.667px; height: 52px;\">\n",
    "<h2><span style=\"color: #000080;\">&nbsp; &nbsp; &nbsp; &nbsp; &nbsp; &nbsp; &nbsp; &nbsp;  <span style=\"color: #993300;\">&nbsp; Algorithmique et&nbsp; Python</span></span></h2>\n",
    "</td>\n",
    "</tr>\n",
    "</tbody>\n",
    "</table>\n",
    "<h2 style=\"text-align: center;\"><span style=\"color: #993300; text-align: center;\">&nbsp; Projet : Traitement d'une base de donn&eacute;es et classification&nbsp;</span></h2>"
   ]
  },
  {
   "cell_type": "markdown",
   "metadata": {},
   "source": [
    "<p>&nbsp;</p>\n",
    "<p><span style=\"color: #ff9900;\"><strong>La base de donn&eacute;es :&nbsp;</strong></span></p>\n",
    "<p>La&nbsp;<strong><a title=\"Liste rouge (conservation)\" href=\"https://fr.wikipedia.org/wiki/Liste_rouge_(conservation)\">liste rouge</a>&nbsp;de l'UICN</strong>&nbsp;(<a title=\"Union internationale pour la conservation de la nature\" href=\"https://fr.wikipedia.org/wiki/Union_internationale_pour_la_conservation_de_la_nature\">Union internationale pour la conservation de la nature</a>&nbsp;; en anglais IUCN<sup id=\"cite_ref-2\" class=\"reference\"></sup>&nbsp;<em>Red List</em>), cr&eacute;&eacute;e en 1964, constitue l'inventaire mondial le plus complet de&nbsp;<a title=\"Statut de conservation\" href=\"https://fr.wikipedia.org/wiki/Statut_de_conservation\">l'&eacute;tat de conservation</a>&nbsp;global des&nbsp;<a title=\"Esp&egrave;ce\" href=\"https://fr.wikipedia.org/wiki/Esp%C3%A8ce\">esp&egrave;ces</a>&nbsp;v&eacute;g&eacute;tales et animales. Elle se pr&eacute;sente sous la forme d'une base de donn&eacute;es en ligne r&eacute;guli&egrave;rement actualis&eacute;e, exposant la situation de plus de 105 732 esp&egrave;ces (version 2019<sup id=\"cite_ref-3\" class=\"reference\"></sup>) sur les 1,8 million d'esp&egrave;ces connues.</p>\n",
    "<p>Elle est de plus en plus utilis&eacute;e pour alerter sur la r&eacute;gression de certaines esp&egrave;ces (ou leur disparition</p>"
   ]
  },
  {
   "cell_type": "markdown",
   "metadata": {},
   "source": [
    "<p><strong><span style=\"color: #ff9900;\">Les cat&eacute;gories de l'IUCN : </span></strong></p>"
   ]
  },
  {
   "cell_type": "markdown",
   "metadata": {},
   "source": [
    "<img src=\"RED.png\" alt=\"catégories\" width=\"600\" height=\"300\"/>\n"
   ]
  },
  {
   "cell_type": "markdown",
   "metadata": {},
   "source": [
    "<p><strong><span style=\"color: #ff9900;\">Sommaire : </span></strong></p>"
   ]
  },
  {
   "cell_type": "markdown",
   "metadata": {},
   "source": [
    "\n",
    "##### Nous allons dans ce projet appliquer 3 différentes méthodes de classification à notre base de données. \n",
    "1. Arbres de décision\n",
    "2. Random Forest\n",
    "3. SVM \n",
    "4. Conclusion "
   ]
  },
  {
   "cell_type": "markdown",
   "metadata": {},
   "source": [
    "##### Importation des librairies"
   ]
  },
  {
   "cell_type": "code",
   "execution_count": 1,
   "metadata": {
    "scrolled": true
   },
   "outputs": [
    {
     "ename": "ImportError",
     "evalue": "cannot import name 'RandomizedSearchC' from 'sklearn.model_selection' (C:\\Users\\X1 CARBIN\\Anaconda\\lib\\site-packages\\sklearn\\model_selection\\__init__.py)",
     "output_type": "error",
     "traceback": [
      "\u001b[1;31m---------------------------------------------------------------------------\u001b[0m",
      "\u001b[1;31mImportError\u001b[0m                               Traceback (most recent call last)",
      "\u001b[1;32m<ipython-input-1-a0a8fdc2d49c>\u001b[0m in \u001b[0;36m<module>\u001b[1;34m\u001b[0m\n\u001b[0;32m     19\u001b[0m \u001b[1;32mfrom\u001b[0m \u001b[0msklearn\u001b[0m\u001b[1;33m.\u001b[0m\u001b[0mmodel_selection\u001b[0m \u001b[1;32mimport\u001b[0m \u001b[0mcross_val_score\u001b[0m\u001b[1;33m\u001b[0m\u001b[1;33m\u001b[0m\u001b[0m\n\u001b[0;32m     20\u001b[0m \u001b[1;32mfrom\u001b[0m \u001b[0msklearn\u001b[0m\u001b[1;33m.\u001b[0m\u001b[0mmetrics\u001b[0m \u001b[1;32mimport\u001b[0m \u001b[0mclassification_report\u001b[0m\u001b[1;33m,\u001b[0m \u001b[0mconfusion_matrix\u001b[0m\u001b[1;33m\u001b[0m\u001b[1;33m\u001b[0m\u001b[0m\n\u001b[1;32m---> 21\u001b[1;33m \u001b[1;32mfrom\u001b[0m \u001b[0msklearn\u001b[0m\u001b[1;33m.\u001b[0m\u001b[0mmodel_selection\u001b[0m \u001b[1;32mimport\u001b[0m \u001b[0mRandomizedSearchC\u001b[0m\u001b[1;33m\u001b[0m\u001b[1;33m\u001b[0m\u001b[0m\n\u001b[0m\u001b[0;32m     22\u001b[0m \u001b[1;32mfrom\u001b[0m \u001b[0msklearn\u001b[0m\u001b[1;33m.\u001b[0m\u001b[0mmetrics\u001b[0m \u001b[1;32mimport\u001b[0m \u001b[0maccuracy_score\u001b[0m\u001b[1;33m,\u001b[0m \u001b[0mconfusion_matrix\u001b[0m\u001b[1;33m,\u001b[0m \u001b[0mprecision_score\u001b[0m\u001b[1;33m,\u001b[0m \u001b[0mrecall_score\u001b[0m\u001b[1;33m,\u001b[0m \u001b[0mroc_auc_score\u001b[0m\u001b[1;33m,\u001b[0m \u001b[0mroc_curve\u001b[0m\u001b[1;33m,\u001b[0m \u001b[0mf1_score\u001b[0m\u001b[1;33m\u001b[0m\u001b[1;33m\u001b[0m\u001b[0m\n\u001b[0;32m     23\u001b[0m \u001b[1;32mfrom\u001b[0m \u001b[0msklearn\u001b[0m\u001b[1;33m.\u001b[0m\u001b[0mmetrics\u001b[0m \u001b[1;32mimport\u001b[0m \u001b[0mplot_roc_curve\u001b[0m\u001b[1;33m\u001b[0m\u001b[1;33m\u001b[0m\u001b[0m\n",
      "\u001b[1;31mImportError\u001b[0m: cannot import name 'RandomizedSearchC' from 'sklearn.model_selection' (C:\\Users\\X1 CARBIN\\Anaconda\\lib\\site-packages\\sklearn\\model_selection\\__init__.py)"
     ]
    }
   ],
   "source": [
    "import pandas as pd\n",
    "import os \n",
    "\n",
    "from geopy.geocoders import Nominatim\n",
    "import time\n",
    "from pprint import pprint\n",
    "###\n",
    "from sklearn import datasets\n",
    "import matplotlib.pyplot as plt\n",
    "import seaborn as sns\n",
    "import os\n",
    "from sklearn.preprocessing import LabelEncoder \n",
    "from sklearn.model_selection import train_test_split\n",
    "from sklearn.ensemble import RandomForestClassifier\n",
    "from sklearn import metrics\n",
    "from sklearn import preprocessing \n",
    "from sklearn.svm import LinearSVC\n",
    "from sklearn.svm import SVC\n",
    "from sklearn.model_selection import cross_val_score\n",
    "from sklearn.metrics import classification_report, confusion_matrix\n",
    "from sklearn.model_selection import RandomizedSearchC\n",
    "from sklearn.metrics import accuracy_score, confusion_matrix, precision_score, recall_score, roc_auc_score, roc_curve, f1_score\n",
    "from sklearn.metrics import plot_roc_curve\n",
    "\n",
    "##\n",
    "from sklearn.tree import tree\n",
    "import matplotlib.pyplot as plt\n",
    "from sklearn.tree import DecisionTreeClassifier, plot_tree\n",
    "%matplotlib inline\n",
    "\n",
    "\n"
   ]
  },
  {
   "cell_type": "code",
   "execution_count": 8,
   "metadata": {},
   "outputs": [
    {
     "data": {
      "text/plain": [
       "'C:\\\\Users\\\\X1 CARBIN\\\\Desktop\\\\RED_LIST\\\\projet_Python'"
      ]
     },
     "execution_count": 8,
     "metadata": {},
     "output_type": "execute_result"
    }
   ],
   "source": [
    "os.getcwd()"
   ]
  },
  {
   "cell_type": "code",
   "execution_count": 20,
   "metadata": {},
   "outputs": [],
   "source": [
    "os.chdir('C:\\\\Users\\\\X1 CARBIN\\\\DATA CAMP\\\\TIDE\\\\RED-lists')"
   ]
  },
  {
   "cell_type": "markdown",
   "metadata": {},
   "source": [
    "##### Importer les tables téléchargées selon les catégories "
   ]
  },
  {
   "cell_type": "code",
   "execution_count": 22,
   "metadata": {},
   "outputs": [
    {
     "name": "stderr",
     "output_type": "stream",
     "text": [
      "C:\\Users\\X1 CARBIN\\Anaconda\\lib\\site-packages\\IPython\\core\\interactiveshell.py:3057: DtypeWarning: Columns (10,11,12,13,14,15,16) have mixed types. Specify dtype option on import or set low_memory=False.\n",
      "  interactivity=interactivity, compiler=compiler, result=result)\n"
     ]
    }
   ],
   "source": [
    "Vulnerable = pd.read_csv (\"Vulnerable.csv\")\n",
    "Near_Threatened= pd.read_csv (\"Near Threatened.csv\")\n",
    "CRTICALLY_ENDANGERED=pd.read_csv (\"CRTICALLY_ENDANGERED.csv\")\n",
    "Data_deficient=pd.read_csv (\"Data deficient.csv\")\n",
    "ENDANGERED=pd.read_csv (\"ENDANGERED.csv\")\n",
    "ETINCT_IN_WILD=pd.read_csv (\"ETINCT_IN_WILD.csv\")\n",
    "EXTINCT=pd.read_csv (\"EXTINCT.csv\")\n",
    "Least_Concern=pd.read_csv (\"Least Concern.csv\")"
   ]
  },
  {
   "cell_type": "code",
   "execution_count": 24,
   "metadata": {},
   "outputs": [],
   "source": [
    "mylist=[]"
   ]
  },
  {
   "cell_type": "code",
   "execution_count": 25,
   "metadata": {},
   "outputs": [
    {
     "data": {
      "text/plain": [
       "Index(['assessment_id', 'id_no', 'binomial', 'presence', 'origin', 'seasonal',\n",
       "       'compiler', 'year', 'citation', 'legend', 'subspecies', 'subpop',\n",
       "       'dist_comm', 'island', 'tax_comm', 'source', 'basisofrec', 'event_year',\n",
       "       'longitude', 'latitude'],\n",
       "      dtype='object')"
      ]
     },
     "execution_count": 25,
     "metadata": {},
     "output_type": "execute_result"
    }
   ],
   "source": [
    "my_list = [A,B,C,D,E,F,G,H]\n",
    "my_list[1]"
   ]
  },
  {
   "cell_type": "code",
   "execution_count": 29,
   "metadata": {},
   "outputs": [],
   "source": [
    "Vulnerable['Name']='Vulnerable'"
   ]
  },
  {
   "cell_type": "code",
   "execution_count": 65,
   "metadata": {},
   "outputs": [],
   "source": [
    "Vulnerable['Name']='Vulnerable'\n",
    "Near_Threatened['Name']='NEAR_THREATENED'\n",
    "CRTICALLY_ENDANGERED['Name']='CRTICALLY_ENDANGERED'\n",
    "ENDANGERED['Name']='ENDANGERED'\n",
    "ETINCT_IN_WILD['Name']='ETINCT_IN_WILD'\n",
    "EXTINCT['Name']='EXTINCT'\n",
    "Data_deficient['Name']='DATA_DEFICIENT'"
   ]
  },
  {
   "cell_type": "markdown",
   "metadata": {},
   "source": [
    "##### Concaténation de toutes les tables en  ajoutant  une variable Red List catégorie "
   ]
  },
  {
   "cell_type": "code",
   "execution_count": 66,
   "metadata": {},
   "outputs": [],
   "source": [
    "frames = [Vulnerable, Near_Threatened, CRTICALLY_ENDANGERED,ENDANGERED,ETINCT_IN_WILD,EXTINCT,Data_deficient]"
   ]
  },
  {
   "cell_type": "code",
   "execution_count": 67,
   "metadata": {},
   "outputs": [],
   "source": [
    "fd = pd.concat(frames,sort=False)"
   ]
  },
  {
   "cell_type": "code",
   "execution_count": 100,
   "metadata": {},
   "outputs": [],
   "source": [
    "fd.rename(columns={'Name':'Red List Category'}, inplace=True)"
   ]
  },
  {
   "cell_type": "code",
   "execution_count": null,
   "metadata": {},
   "outputs": [],
   "source": [
    "fd.head()"
   ]
  },
  {
   "cell_type": "code",
   "execution_count": null,
   "metadata": {},
   "outputs": [],
   "source": [
    "fd.rename(columns={\"Name\": \"Red List Category\"})"
   ]
  },
  {
   "cell_type": "code",
   "execution_count": null,
   "metadata": {},
   "outputs": [],
   "source": [
    "fd['Red List Category'].value_counts()\n"
   ]
  },
  {
   "cell_type": "markdown",
   "metadata": {},
   "source": [
    "##### Extraction des pays \n",
    "Grâce aux variables latitude et longitude nous retrouvons les pays des observations."
   ]
  },
  {
   "cell_type": "code",
   "execution_count": null,
   "metadata": {},
   "outputs": [],
   "source": [
    "geolocator = Nominatim(user_agent=\"geoapiExercises\")"
   ]
  },
  {
   "cell_type": "code",
   "execution_count": null,
   "metadata": {},
   "outputs": [],
   "source": [
    "def get_country(row):\n",
    "    try:\n",
    "        location = geolocator.reverse(str(row['latitude']) + ', ' + str(row['longitude']))\n",
    "        return location.raw['address']['country']\n",
    "    except :\n",
    "        pass"
   ]
  },
  {
   "cell_type": "code",
   "execution_count": null,
   "metadata": {},
   "outputs": [],
   "source": [
    "ETINCT_IN_WILD['country'] =ETINCT_IN_WILD.apply(lambda row: get_country(row), axis = 1)\n",
    "ETINCT_IN_WILD"
   ]
  },
  {
   "cell_type": "code",
   "execution_count": null,
   "metadata": {},
   "outputs": [],
   "source": [
    "fd['country'] =fd.apply(lambda row: get_country(row), axis = 1)"
   ]
  },
  {
   "cell_type": "markdown",
   "metadata": {},
   "source": [
    "##### On regroupe ensuite les observations "
   ]
  },
  {
   "cell_type": "code",
   "execution_count": null,
   "metadata": {},
   "outputs": [],
   "source": [
    "col_to_group=['assessment_id','binomial','presence','origin','seasonal','legend','Red List Category','country']"
   ]
  },
  {
   "cell_type": "code",
   "execution_count": null,
   "metadata": {},
   "outputs": [],
   "source": [
    "data.groupby(col_to_group).agg('count')"
   ]
  },
  {
   "cell_type": "markdown",
   "metadata": {},
   "source": [
    "<h2><span style=\"color: #993300;\"><strong>Classification&nbsp;</strong></span></h2>"
   ]
  },
  {
   "cell_type": "markdown",
   "metadata": {},
   "source": [
    "### 1.  Arbre de décision"
   ]
  },
  {
   "cell_type": "markdown",
   "metadata": {},
   "source": [
    "On utilise notre base de donnée après le regroupement."
   ]
  },
  {
   "cell_type": "code",
   "execution_count": 4,
   "metadata": {},
   "outputs": [
    {
     "ename": "NameError",
     "evalue": "name 'pd' is not defined",
     "output_type": "error",
     "traceback": [
      "\u001b[0;31m---------------------------------------------------------------------------\u001b[0m",
      "\u001b[0;31mNameError\u001b[0m                                 Traceback (most recent call last)",
      "\u001b[0;32m<ipython-input-4-55c2d5057237>\u001b[0m in \u001b[0;36m<module>\u001b[0;34m\u001b[0m\n\u001b[0;32m----> 1\u001b[0;31m \u001b[0mtest\u001b[0m \u001b[0;34m=\u001b[0m \u001b[0mpd\u001b[0m\u001b[0;34m.\u001b[0m\u001b[0mread_csv\u001b[0m \u001b[0;34m(\u001b[0m\u001b[0;34m\"test.csv\"\u001b[0m\u001b[0;34m)\u001b[0m \u001b[0;31m#base clean (après regroupement)\u001b[0m\u001b[0;34m\u001b[0m\u001b[0;34m\u001b[0m\u001b[0m\n\u001b[0m\u001b[1;32m      2\u001b[0m \u001b[0mtest\u001b[0m\u001b[0;34m\u001b[0m\u001b[0;34m\u001b[0m\u001b[0m\n",
      "\u001b[0;31mNameError\u001b[0m: name 'pd' is not defined"
     ]
    }
   ],
   "source": [
    "test = pd.read_csv (\"test.csv\") #base clean (après regroupement)\n",
    "test"
   ]
  },
  {
   "cell_type": "markdown",
   "metadata": {},
   "source": [
    "On choisit les 4 variables pour construire notre modèle après."
   ]
  },
  {
   "cell_type": "code",
   "execution_count": 69,
   "metadata": {},
   "outputs": [
    {
     "data": {
      "text/html": [
       "<div>\n",
       "<style scoped>\n",
       "    .dataframe tbody tr th:only-of-type {\n",
       "        vertical-align: middle;\n",
       "    }\n",
       "\n",
       "    .dataframe tbody tr th {\n",
       "        vertical-align: top;\n",
       "    }\n",
       "\n",
       "    .dataframe thead th {\n",
       "        text-align: right;\n",
       "    }\n",
       "</style>\n",
       "<table border=\"1\" class=\"dataframe\">\n",
       "  <thead>\n",
       "    <tr style=\"text-align: right;\">\n",
       "      <th></th>\n",
       "      <th>presence</th>\n",
       "      <th>origin</th>\n",
       "      <th>seasonal</th>\n",
       "      <th>Red List Category</th>\n",
       "    </tr>\n",
       "  </thead>\n",
       "  <tbody>\n",
       "    <tr>\n",
       "      <th>0</th>\n",
       "      <td>1</td>\n",
       "      <td>1</td>\n",
       "      <td>1</td>\n",
       "      <td>CRTICALLY_ENDANGERED</td>\n",
       "    </tr>\n",
       "    <tr>\n",
       "      <th>1</th>\n",
       "      <td>1</td>\n",
       "      <td>1</td>\n",
       "      <td>1</td>\n",
       "      <td>CRTICALLY_ENDANGERED</td>\n",
       "    </tr>\n",
       "    <tr>\n",
       "      <th>2</th>\n",
       "      <td>1</td>\n",
       "      <td>1</td>\n",
       "      <td>1</td>\n",
       "      <td>Vulnerable</td>\n",
       "    </tr>\n",
       "    <tr>\n",
       "      <th>3</th>\n",
       "      <td>1</td>\n",
       "      <td>1</td>\n",
       "      <td>1</td>\n",
       "      <td>Vulnerable</td>\n",
       "    </tr>\n",
       "    <tr>\n",
       "      <th>4</th>\n",
       "      <td>1</td>\n",
       "      <td>1</td>\n",
       "      <td>1</td>\n",
       "      <td>CRTICALLY_ENDANGERED</td>\n",
       "    </tr>\n",
       "    <tr>\n",
       "      <th>5</th>\n",
       "      <td>1</td>\n",
       "      <td>1</td>\n",
       "      <td>1</td>\n",
       "      <td>CRTICALLY_ENDANGERED</td>\n",
       "    </tr>\n",
       "    <tr>\n",
       "      <th>6</th>\n",
       "      <td>1</td>\n",
       "      <td>1</td>\n",
       "      <td>1</td>\n",
       "      <td>CRTICALLY_ENDANGERED</td>\n",
       "    </tr>\n",
       "    <tr>\n",
       "      <th>7</th>\n",
       "      <td>4</td>\n",
       "      <td>1</td>\n",
       "      <td>1</td>\n",
       "      <td>CRTICALLY_ENDANGERED</td>\n",
       "    </tr>\n",
       "    <tr>\n",
       "      <th>8</th>\n",
       "      <td>4</td>\n",
       "      <td>1</td>\n",
       "      <td>1</td>\n",
       "      <td>CRTICALLY_ENDANGERED</td>\n",
       "    </tr>\n",
       "    <tr>\n",
       "      <th>9</th>\n",
       "      <td>1</td>\n",
       "      <td>1</td>\n",
       "      <td>1</td>\n",
       "      <td>ENDANGERED</td>\n",
       "    </tr>\n",
       "    <tr>\n",
       "      <th>10</th>\n",
       "      <td>1</td>\n",
       "      <td>1</td>\n",
       "      <td>1</td>\n",
       "      <td>ENDANGERED</td>\n",
       "    </tr>\n",
       "    <tr>\n",
       "      <th>11</th>\n",
       "      <td>3</td>\n",
       "      <td>1</td>\n",
       "      <td>1</td>\n",
       "      <td>ENDANGERED</td>\n",
       "    </tr>\n",
       "    <tr>\n",
       "      <th>12</th>\n",
       "      <td>6</td>\n",
       "      <td>2</td>\n",
       "      <td>1</td>\n",
       "      <td>ETINCT_IN_WILD</td>\n",
       "    </tr>\n",
       "    <tr>\n",
       "      <th>13</th>\n",
       "      <td>1</td>\n",
       "      <td>1</td>\n",
       "      <td>1</td>\n",
       "      <td>DATA_DEFICIENT</td>\n",
       "    </tr>\n",
       "    <tr>\n",
       "      <th>14</th>\n",
       "      <td>1</td>\n",
       "      <td>1</td>\n",
       "      <td>1</td>\n",
       "      <td>DATA_DEFICIENT</td>\n",
       "    </tr>\n",
       "    <tr>\n",
       "      <th>15</th>\n",
       "      <td>1</td>\n",
       "      <td>1</td>\n",
       "      <td>1</td>\n",
       "      <td>DATA_DEFICIENT</td>\n",
       "    </tr>\n",
       "    <tr>\n",
       "      <th>16</th>\n",
       "      <td>1</td>\n",
       "      <td>1</td>\n",
       "      <td>1</td>\n",
       "      <td>DATA_DEFICIENT</td>\n",
       "    </tr>\n",
       "    <tr>\n",
       "      <th>17</th>\n",
       "      <td>1</td>\n",
       "      <td>1</td>\n",
       "      <td>1</td>\n",
       "      <td>ENDANGERED</td>\n",
       "    </tr>\n",
       "    <tr>\n",
       "      <th>18</th>\n",
       "      <td>1</td>\n",
       "      <td>1</td>\n",
       "      <td>1</td>\n",
       "      <td>Vulnerable</td>\n",
       "    </tr>\n",
       "    <tr>\n",
       "      <th>19</th>\n",
       "      <td>1</td>\n",
       "      <td>1</td>\n",
       "      <td>1</td>\n",
       "      <td>ENDANGERED</td>\n",
       "    </tr>\n",
       "    <tr>\n",
       "      <th>20</th>\n",
       "      <td>1</td>\n",
       "      <td>1</td>\n",
       "      <td>1</td>\n",
       "      <td>ENDANGERED</td>\n",
       "    </tr>\n",
       "    <tr>\n",
       "      <th>21</th>\n",
       "      <td>1</td>\n",
       "      <td>1</td>\n",
       "      <td>1</td>\n",
       "      <td>ENDANGERED</td>\n",
       "    </tr>\n",
       "    <tr>\n",
       "      <th>22</th>\n",
       "      <td>1</td>\n",
       "      <td>1</td>\n",
       "      <td>1</td>\n",
       "      <td>ENDANGERED</td>\n",
       "    </tr>\n",
       "    <tr>\n",
       "      <th>23</th>\n",
       "      <td>1</td>\n",
       "      <td>1</td>\n",
       "      <td>1</td>\n",
       "      <td>ENDANGERED</td>\n",
       "    </tr>\n",
       "    <tr>\n",
       "      <th>24</th>\n",
       "      <td>1</td>\n",
       "      <td>1</td>\n",
       "      <td>1</td>\n",
       "      <td>ENDANGERED</td>\n",
       "    </tr>\n",
       "    <tr>\n",
       "      <th>25</th>\n",
       "      <td>1</td>\n",
       "      <td>1</td>\n",
       "      <td>1</td>\n",
       "      <td>ENDANGERED</td>\n",
       "    </tr>\n",
       "    <tr>\n",
       "      <th>26</th>\n",
       "      <td>1</td>\n",
       "      <td>1</td>\n",
       "      <td>1</td>\n",
       "      <td>ENDANGERED</td>\n",
       "    </tr>\n",
       "    <tr>\n",
       "      <th>27</th>\n",
       "      <td>1</td>\n",
       "      <td>1</td>\n",
       "      <td>1</td>\n",
       "      <td>ENDANGERED</td>\n",
       "    </tr>\n",
       "    <tr>\n",
       "      <th>28</th>\n",
       "      <td>1</td>\n",
       "      <td>1</td>\n",
       "      <td>1</td>\n",
       "      <td>ENDANGERED</td>\n",
       "    </tr>\n",
       "    <tr>\n",
       "      <th>29</th>\n",
       "      <td>1</td>\n",
       "      <td>1</td>\n",
       "      <td>1</td>\n",
       "      <td>ENDANGERED</td>\n",
       "    </tr>\n",
       "    <tr>\n",
       "      <th>...</th>\n",
       "      <td>...</td>\n",
       "      <td>...</td>\n",
       "      <td>...</td>\n",
       "      <td>...</td>\n",
       "    </tr>\n",
       "    <tr>\n",
       "      <th>45772</th>\n",
       "      <td>1</td>\n",
       "      <td>1</td>\n",
       "      <td>1</td>\n",
       "      <td>CRTICALLY_ENDANGERED</td>\n",
       "    </tr>\n",
       "    <tr>\n",
       "      <th>45773</th>\n",
       "      <td>1</td>\n",
       "      <td>1</td>\n",
       "      <td>1</td>\n",
       "      <td>ENDANGERED</td>\n",
       "    </tr>\n",
       "    <tr>\n",
       "      <th>45774</th>\n",
       "      <td>1</td>\n",
       "      <td>1</td>\n",
       "      <td>1</td>\n",
       "      <td>ENDANGERED</td>\n",
       "    </tr>\n",
       "    <tr>\n",
       "      <th>45775</th>\n",
       "      <td>1</td>\n",
       "      <td>1</td>\n",
       "      <td>1</td>\n",
       "      <td>ENDANGERED</td>\n",
       "    </tr>\n",
       "    <tr>\n",
       "      <th>45776</th>\n",
       "      <td>1</td>\n",
       "      <td>1</td>\n",
       "      <td>1</td>\n",
       "      <td>ENDANGERED</td>\n",
       "    </tr>\n",
       "    <tr>\n",
       "      <th>45777</th>\n",
       "      <td>1</td>\n",
       "      <td>1</td>\n",
       "      <td>1</td>\n",
       "      <td>ENDANGERED</td>\n",
       "    </tr>\n",
       "    <tr>\n",
       "      <th>45778</th>\n",
       "      <td>1</td>\n",
       "      <td>1</td>\n",
       "      <td>1</td>\n",
       "      <td>ENDANGERED</td>\n",
       "    </tr>\n",
       "    <tr>\n",
       "      <th>45779</th>\n",
       "      <td>1</td>\n",
       "      <td>1</td>\n",
       "      <td>1</td>\n",
       "      <td>ENDANGERED</td>\n",
       "    </tr>\n",
       "    <tr>\n",
       "      <th>45780</th>\n",
       "      <td>1</td>\n",
       "      <td>1</td>\n",
       "      <td>1</td>\n",
       "      <td>ENDANGERED</td>\n",
       "    </tr>\n",
       "    <tr>\n",
       "      <th>45781</th>\n",
       "      <td>1</td>\n",
       "      <td>1</td>\n",
       "      <td>1</td>\n",
       "      <td>ENDANGERED</td>\n",
       "    </tr>\n",
       "    <tr>\n",
       "      <th>45782</th>\n",
       "      <td>1</td>\n",
       "      <td>1</td>\n",
       "      <td>1</td>\n",
       "      <td>ENDANGERED</td>\n",
       "    </tr>\n",
       "    <tr>\n",
       "      <th>45783</th>\n",
       "      <td>1</td>\n",
       "      <td>1</td>\n",
       "      <td>1</td>\n",
       "      <td>ENDANGERED</td>\n",
       "    </tr>\n",
       "    <tr>\n",
       "      <th>45784</th>\n",
       "      <td>1</td>\n",
       "      <td>1</td>\n",
       "      <td>1</td>\n",
       "      <td>ENDANGERED</td>\n",
       "    </tr>\n",
       "    <tr>\n",
       "      <th>45785</th>\n",
       "      <td>1</td>\n",
       "      <td>1</td>\n",
       "      <td>1</td>\n",
       "      <td>ENDANGERED</td>\n",
       "    </tr>\n",
       "    <tr>\n",
       "      <th>45786</th>\n",
       "      <td>1</td>\n",
       "      <td>1</td>\n",
       "      <td>1</td>\n",
       "      <td>ENDANGERED</td>\n",
       "    </tr>\n",
       "    <tr>\n",
       "      <th>45787</th>\n",
       "      <td>1</td>\n",
       "      <td>1</td>\n",
       "      <td>1</td>\n",
       "      <td>ENDANGERED</td>\n",
       "    </tr>\n",
       "    <tr>\n",
       "      <th>45788</th>\n",
       "      <td>1</td>\n",
       "      <td>1</td>\n",
       "      <td>1</td>\n",
       "      <td>CRTICALLY_ENDANGERED</td>\n",
       "    </tr>\n",
       "    <tr>\n",
       "      <th>45789</th>\n",
       "      <td>1</td>\n",
       "      <td>1</td>\n",
       "      <td>1</td>\n",
       "      <td>ENDANGERED</td>\n",
       "    </tr>\n",
       "    <tr>\n",
       "      <th>45790</th>\n",
       "      <td>1</td>\n",
       "      <td>1</td>\n",
       "      <td>1</td>\n",
       "      <td>ENDANGERED</td>\n",
       "    </tr>\n",
       "    <tr>\n",
       "      <th>45791</th>\n",
       "      <td>1</td>\n",
       "      <td>1</td>\n",
       "      <td>1</td>\n",
       "      <td>ENDANGERED</td>\n",
       "    </tr>\n",
       "    <tr>\n",
       "      <th>45792</th>\n",
       "      <td>1</td>\n",
       "      <td>1</td>\n",
       "      <td>1</td>\n",
       "      <td>ENDANGERED</td>\n",
       "    </tr>\n",
       "    <tr>\n",
       "      <th>45793</th>\n",
       "      <td>1</td>\n",
       "      <td>1</td>\n",
       "      <td>1</td>\n",
       "      <td>ENDANGERED</td>\n",
       "    </tr>\n",
       "    <tr>\n",
       "      <th>45794</th>\n",
       "      <td>1</td>\n",
       "      <td>1</td>\n",
       "      <td>1</td>\n",
       "      <td>Vulnerable</td>\n",
       "    </tr>\n",
       "    <tr>\n",
       "      <th>45795</th>\n",
       "      <td>1</td>\n",
       "      <td>1</td>\n",
       "      <td>1</td>\n",
       "      <td>Vulnerable</td>\n",
       "    </tr>\n",
       "    <tr>\n",
       "      <th>45796</th>\n",
       "      <td>1</td>\n",
       "      <td>1</td>\n",
       "      <td>1</td>\n",
       "      <td>Vulnerable</td>\n",
       "    </tr>\n",
       "    <tr>\n",
       "      <th>45797</th>\n",
       "      <td>1</td>\n",
       "      <td>1</td>\n",
       "      <td>1</td>\n",
       "      <td>Vulnerable</td>\n",
       "    </tr>\n",
       "    <tr>\n",
       "      <th>45798</th>\n",
       "      <td>1</td>\n",
       "      <td>1</td>\n",
       "      <td>1</td>\n",
       "      <td>Vulnerable</td>\n",
       "    </tr>\n",
       "    <tr>\n",
       "      <th>45799</th>\n",
       "      <td>1</td>\n",
       "      <td>1</td>\n",
       "      <td>1</td>\n",
       "      <td>Vulnerable</td>\n",
       "    </tr>\n",
       "    <tr>\n",
       "      <th>45800</th>\n",
       "      <td>1</td>\n",
       "      <td>1</td>\n",
       "      <td>1</td>\n",
       "      <td>Vulnerable</td>\n",
       "    </tr>\n",
       "    <tr>\n",
       "      <th>45801</th>\n",
       "      <td>1</td>\n",
       "      <td>1</td>\n",
       "      <td>1</td>\n",
       "      <td>Vulnerable</td>\n",
       "    </tr>\n",
       "  </tbody>\n",
       "</table>\n",
       "<p>45802 rows × 4 columns</p>\n",
       "</div>"
      ],
      "text/plain": [
       "       presence  origin  seasonal     Red List Category\n",
       "0             1       1         1  CRTICALLY_ENDANGERED\n",
       "1             1       1         1  CRTICALLY_ENDANGERED\n",
       "2             1       1         1            Vulnerable\n",
       "3             1       1         1            Vulnerable\n",
       "4             1       1         1  CRTICALLY_ENDANGERED\n",
       "5             1       1         1  CRTICALLY_ENDANGERED\n",
       "6             1       1         1  CRTICALLY_ENDANGERED\n",
       "7             4       1         1  CRTICALLY_ENDANGERED\n",
       "8             4       1         1  CRTICALLY_ENDANGERED\n",
       "9             1       1         1            ENDANGERED\n",
       "10            1       1         1            ENDANGERED\n",
       "11            3       1         1            ENDANGERED\n",
       "12            6       2         1        ETINCT_IN_WILD\n",
       "13            1       1         1        DATA_DEFICIENT\n",
       "14            1       1         1        DATA_DEFICIENT\n",
       "15            1       1         1        DATA_DEFICIENT\n",
       "16            1       1         1        DATA_DEFICIENT\n",
       "17            1       1         1            ENDANGERED\n",
       "18            1       1         1            Vulnerable\n",
       "19            1       1         1            ENDANGERED\n",
       "20            1       1         1            ENDANGERED\n",
       "21            1       1         1            ENDANGERED\n",
       "22            1       1         1            ENDANGERED\n",
       "23            1       1         1            ENDANGERED\n",
       "24            1       1         1            ENDANGERED\n",
       "25            1       1         1            ENDANGERED\n",
       "26            1       1         1            ENDANGERED\n",
       "27            1       1         1            ENDANGERED\n",
       "28            1       1         1            ENDANGERED\n",
       "29            1       1         1            ENDANGERED\n",
       "...         ...     ...       ...                   ...\n",
       "45772         1       1         1  CRTICALLY_ENDANGERED\n",
       "45773         1       1         1            ENDANGERED\n",
       "45774         1       1         1            ENDANGERED\n",
       "45775         1       1         1            ENDANGERED\n",
       "45776         1       1         1            ENDANGERED\n",
       "45777         1       1         1            ENDANGERED\n",
       "45778         1       1         1            ENDANGERED\n",
       "45779         1       1         1            ENDANGERED\n",
       "45780         1       1         1            ENDANGERED\n",
       "45781         1       1         1            ENDANGERED\n",
       "45782         1       1         1            ENDANGERED\n",
       "45783         1       1         1            ENDANGERED\n",
       "45784         1       1         1            ENDANGERED\n",
       "45785         1       1         1            ENDANGERED\n",
       "45786         1       1         1            ENDANGERED\n",
       "45787         1       1         1            ENDANGERED\n",
       "45788         1       1         1  CRTICALLY_ENDANGERED\n",
       "45789         1       1         1            ENDANGERED\n",
       "45790         1       1         1            ENDANGERED\n",
       "45791         1       1         1            ENDANGERED\n",
       "45792         1       1         1            ENDANGERED\n",
       "45793         1       1         1            ENDANGERED\n",
       "45794         1       1         1            Vulnerable\n",
       "45795         1       1         1            Vulnerable\n",
       "45796         1       1         1            Vulnerable\n",
       "45797         1       1         1            Vulnerable\n",
       "45798         1       1         1            Vulnerable\n",
       "45799         1       1         1            Vulnerable\n",
       "45800         1       1         1            Vulnerable\n",
       "45801         1       1         1            Vulnerable\n",
       "\n",
       "[45802 rows x 4 columns]"
      ]
     },
     "execution_count": 69,
     "metadata": {},
     "output_type": "execute_result"
    }
   ],
   "source": [
    "data=test[['presence','origin','seasonal','Red List Category']]\n",
    "data"
   ]
  },
  {
   "cell_type": "markdown",
   "metadata": {},
   "source": [
    "<p><span style=\"color: rgb(251, 160, 38);\"><u>Construction d&apos;arbre</u></span></p>"
   ]
  },
  {
   "cell_type": "code",
   "execution_count": 70,
   "metadata": {},
   "outputs": [],
   "source": [
    "X=data[['presence', 'origin', 'seasonal']]  # Features\n",
    "y=data['Red List Category']  # Labels\n",
    "\n",
    "X_train, X_test, y_train, y_test = train_test_split(X, y, test_size=0.2)"
   ]
  },
  {
   "cell_type": "code",
   "execution_count": 169,
   "metadata": {},
   "outputs": [
    {
     "data": {
      "text/plain": [
       "array(['Vulnerable', 'Vulnerable', 'Vulnerable', ..., 'Vulnerable',\n",
       "       'Vulnerable', 'Vulnerable'], dtype=object)"
      ]
     },
     "execution_count": 169,
     "metadata": {},
     "output_type": "execute_result"
    }
   ],
   "source": [
    "clf_tree = DecisionTreeClassifier(random_state=1)\n",
    "clf_tree = clf_tree.fit(X_train,y_train)\n",
    "clf_tree.predict(X_test)"
   ]
  },
  {
   "cell_type": "code",
   "execution_count": 170,
   "metadata": {},
   "outputs": [
    {
     "name": "stderr",
     "output_type": "stream",
     "text": [
      "C:\\Users\\alexa\\Anaconda3\\lib\\site-packages\\sklearn\\metrics\\_classification.py:1221: UndefinedMetricWarning: Precision and F-score are ill-defined and being set to 0.0 in labels with no predicted samples. Use `zero_division` parameter to control this behavior.\n",
      "  _warn_prf(average, modifier, msg_start, len(result))\n"
     ]
    },
    {
     "name": "stdout",
     "output_type": "stream",
     "text": [
      "\n",
      "Précision du SVM pour l’ensemble de données donné :  0.35760288178146493\n",
      "[[   3    0    5    0    1  468]\n",
      " [   1   31    0    0    7  830]\n",
      " [   0    1   13    0   18 2351]\n",
      " [   0    0    3    0    0    0]\n",
      " [   0    3    8    0   26 2155]\n",
      " [   0    8   10    0   16 3203]]\n",
      "                      precision    recall  f1-score   support\n",
      "\n",
      "CRTICALLY_ENDANGERED       0.75      0.01      0.01       477\n",
      "      DATA_DEFICIENT       0.72      0.04      0.07       869\n",
      "          ENDANGERED       0.33      0.01      0.01      2383\n",
      "             EXTINCT       0.00      0.00      0.00         3\n",
      "     NEAR_THREATENED       0.38      0.01      0.02      2192\n",
      "          Vulnerable       0.36      0.99      0.52      3237\n",
      "\n",
      "            accuracy                           0.36      9161\n",
      "           macro avg       0.42      0.17      0.11      9161\n",
      "        weighted avg       0.41      0.36      0.20      9161\n",
      "\n"
     ]
    }
   ],
   "source": [
    "Y_pred = clf_tree.predict(X_test)\n",
    "\n",
    "cm = confusion_matrix(y_test,Y_pred)\n",
    "accuracy = float(cm.diagonal().sum())/len(y_test)\n",
    "cr=classification_report(y_test,Y_pred)\n",
    "print(\"\\nPrécision du SVM pour l’ensemble de données donné : \", accuracy)\n",
    "print(cm)\n",
    "print(cr)"
   ]
  },
  {
   "cell_type": "markdown",
   "metadata": {},
   "source": [
    "L'affichage graphique de l'arbre."
   ]
  },
  {
   "cell_type": "code",
   "execution_count": 123,
   "metadata": {},
   "outputs": [
    {
     "data": {
      "image/png": "[encoded data removed]",
      "text/plain": [
       "<Figure size 1080x720 with 1 Axes>"
      ]
     },
     "metadata": {
      "needs_background": "light"
     },
     "output_type": "display_data"
    }
   ],
   "source": [
    "#plot_tree(clf) \n",
    "\n",
    "fig, ax = plt.subplots(figsize=(15, 10))\n",
    "plot_tree(clf, fontsize=8, filled=True)\n",
    "\n",
    "plt.show()"
   ]
  },
  {
   "cell_type": "markdown",
   "metadata": {},
   "source": [
    "On a 15 feuilles en total donc 15 règles.Il produit donc 15 règles prédictives matérialisées par les chemins partant de la racine aux feuilles."
   ]
  },
  {
   "cell_type": "markdown",
   "metadata": {},
   "source": [
    "### Deux classes"
   ]
  },
  {
   "cell_type": "markdown",
   "metadata": {},
   "source": [
    "Dans cette partie, au lieux de 6 classes, on regroupe en 2 classes pour faire la classification binaire."
   ]
  },
  {
   "cell_type": "markdown",
   "metadata": {},
   "source": [
    "Informations sur les deux groupes."
   ]
  },
  {
   "cell_type": "code",
   "execution_count": 71,
   "metadata": {},
   "outputs": [
    {
     "data": {
      "text/plain": [
       "1    38964\n",
       "0     2418\n",
       "Name: Red List Category, dtype: int64"
      ]
     },
     "execution_count": 71,
     "metadata": {},
     "output_type": "execute_result"
    }
   ],
   "source": [
    "clean= {\"Red List Category\":{\"Vulnerable\": 1, \n",
    "                             \"NEAR_THREATENED\":1,\n",
    "                             \"ENDANGERED\":1, \n",
    "                             \"CRTICALLY_ENDANGERED\":0,\n",
    "                             \"ETINCT_IN_WILD\":0, \n",
    "                             \"EXTINCT\":0}}\n",
    "\n",
    "data_deux_catégories=test[['presence','origin','seasonal','Red List Category']]\n",
    "data_deux_catégories = data_deux_catégories.drop(data_deux_catégories[data_deux_catégories['Red List Category']=='DATA_DEFICIENT'].index)\n",
    "data_deux_catégories.replace(clean, inplace=True)\n",
    "#data_deux_catégories.head()\n",
    "data_deux_catégories[\"Red List Category\"].value_counts()\n",
    "\n",
    "#Pour la partie SVM, on avait oublié d'enlevé la catégorie data_deficient, ce qui explique pourquoi le résultat n'était pas cohérent avec la partie Random forest\n"
   ]
  },
  {
   "cell_type": "code",
   "execution_count": 72,
   "metadata": {},
   "outputs": [
    {
     "data": {
      "text/plain": [
       "presence             0\n",
       "origin               0\n",
       "seasonal             0\n",
       "Red List Category    0\n",
       "dtype: int64"
      ]
     },
     "execution_count": 72,
     "metadata": {},
     "output_type": "execute_result"
    }
   ],
   "source": [
    "data_deux_catégories.isnull().sum()"
   ]
  },
  {
   "cell_type": "markdown",
   "metadata": {},
   "source": [
    "Partition en échantillons d’apprentissage et de test"
   ]
  },
  {
   "cell_type": "code",
   "execution_count": 73,
   "metadata": {},
   "outputs": [],
   "source": [
    "X=data_deux_catégories[['presence', 'origin', 'seasonal']]  # Features\n",
    "y=data_deux_catégories['Red List Category']  # Labels\n",
    "\n",
    "X_train, X_test, y_train, y_test = train_test_split(X, y, test_size=0.2) # 70% training and 30% test\n"
   ]
  },
  {
   "cell_type": "code",
   "execution_count": 174,
   "metadata": {},
   "outputs": [
    {
     "data": {
      "text/plain": [
       "array([1, 1, 1, ..., 1, 1, 1], dtype=int64)"
      ]
     },
     "execution_count": 174,
     "metadata": {},
     "output_type": "execute_result"
    }
   ],
   "source": [
    "clf_tree = DecisionTreeClassifier(random_state=1)\n",
    "clf_tree = clf_tree.fit(X_train,y_train)\n",
    "clf_tree.predict(X_test)"
   ]
  },
  {
   "cell_type": "markdown",
   "metadata": {},
   "source": [
    "Affichage graphique de l'arbre"
   ]
  },
  {
   "cell_type": "code",
   "execution_count": 161,
   "metadata": {},
   "outputs": [
    {
     "data": {
      "image/png": "[encoded data removed]",
      "text/plain": [
       "<Figure size 1080x576 with 1 Axes>"
      ]
     },
     "metadata": {
      "needs_background": "light"
     },
     "output_type": "display_data"
    }
   ],
   "source": [
    "fig, ax = plt.subplots(figsize=(15, 8))\n",
    "plot_tree(clf, fontsize=8,filled=True)\n",
    "\n",
    "plt.show()"
   ]
  },
  {
   "cell_type": "markdown",
   "metadata": {},
   "source": [
    "Prédiction en test"
   ]
  },
  {
   "cell_type": "code",
   "execution_count": 175,
   "metadata": {},
   "outputs": [
    {
     "name": "stdout",
     "output_type": "stream",
     "text": [
      "\n",
      "Précision du SVM pour l’ensemble de données donné :  0.943095324392896\n",
      "[[   2  471]\n",
      " [   0 7804]]\n",
      "              precision    recall  f1-score   support\n",
      "\n",
      "           0       1.00      0.00      0.01       473\n",
      "           1       0.94      1.00      0.97      7804\n",
      "\n",
      "    accuracy                           0.94      8277\n",
      "   macro avg       0.97      0.50      0.49      8277\n",
      "weighted avg       0.95      0.94      0.92      8277\n",
      "\n"
     ]
    }
   ],
   "source": [
    "Y_pred = clf_tree.predict(X_test)\n",
    "\n",
    "cm = confusion_matrix(y_test,Y_pred)\n",
    "accuracy = float(cm.diagonal().sum())/len(y_test)\n",
    "cr=classification_report(y_test,Y_pred)\n",
    "print(\"\\nPrécision du SVM pour l’ensemble de données donné : \", accuracy)\n",
    "print(cm)\n",
    "print(cr)"
   ]
  },
  {
   "cell_type": "markdown",
   "metadata": {},
   "source": [
    "Importance des variables"
   ]
  },
  {
   "cell_type": "code",
   "execution_count": 176,
   "metadata": {},
   "outputs": [
    {
     "data": {
      "text/plain": [
       "array([0.71029964, 0.24612189, 0.04357847])"
      ]
     },
     "execution_count": 176,
     "metadata": {},
     "output_type": "execute_result"
    }
   ],
   "source": [
    "clf.feature_importances_"
   ]
  },
  {
   "cell_type": "markdown",
   "metadata": {},
   "source": [
    "Affichage graphiques de l'importance des variables"
   ]
  },
  {
   "cell_type": "code",
   "execution_count": 177,
   "metadata": {},
   "outputs": [
    {
     "data": {
      "image/png": "[encoded data removed]",
      "text/plain": [
       "<Figure size 432x288 with 1 Axes>"
      ]
     },
     "metadata": {
      "needs_background": "light"
     },
     "output_type": "display_data"
    }
   ],
   "source": [
    "ps=data_deux_catégories[['presence','origin','seasonal']]\n",
    "feat_importances = pd.Series(clf.feature_importances_, index=ps.columns)\n",
    "feat_importances.nlargest(4).plot(kind='barh')\n",
    "plt.show()"
   ]
  },
  {
   "cell_type": "markdown",
   "metadata": {},
   "source": [
    "### 2. Random Forest\n",
    "Nous commençons par diviser nos données en deux bases : une base entrainement et une base test."
   ]
  },
  {
   "cell_type": "code",
   "execution_count": 1,
   "metadata": {
    "scrolled": true
   },
   "outputs": [
    {
     "ename": "NameError",
     "evalue": "name 'train_test_split' is not defined",
     "output_type": "error",
     "traceback": [
      "\u001b[0;31m---------------------------------------------------------------------------\u001b[0m",
      "\u001b[0;31mNameError\u001b[0m                                 Traceback (most recent call last)",
      "\u001b[0;32m<ipython-input-1-548d383053ba>\u001b[0m in \u001b[0;36m<module>\u001b[0;34m\u001b[0m\n\u001b[0;32m----> 1\u001b[0;31m \u001b[0mX_train\u001b[0m\u001b[0;34m,\u001b[0m \u001b[0mX_test\u001b[0m\u001b[0;34m,\u001b[0m \u001b[0my_train\u001b[0m\u001b[0;34m,\u001b[0m \u001b[0my_test\u001b[0m \u001b[0;34m=\u001b[0m \u001b[0mtrain_test_split\u001b[0m\u001b[0;34m(\u001b[0m\u001b[0mX\u001b[0m\u001b[0;34m,\u001b[0m \u001b[0my\u001b[0m\u001b[0;34m,\u001b[0m \u001b[0mtest_size\u001b[0m\u001b[0;34m=\u001b[0m\u001b[0;36m0.2\u001b[0m\u001b[0;34m)\u001b[0m \u001b[0;31m# 80% training and 20% test\u001b[0m\u001b[0;34m\u001b[0m\u001b[0;34m\u001b[0m\u001b[0m\n\u001b[0m\u001b[1;32m      2\u001b[0m \u001b[0;31m#on split nos données à 80% pour le training test et 20% pour le test set\u001b[0m\u001b[0;34m\u001b[0m\u001b[0;34m\u001b[0m\u001b[0;34m\u001b[0m\u001b[0m\n",
      "\u001b[0;31mNameError\u001b[0m: name 'train_test_split' is not defined"
     ]
    }
   ],
   "source": [
    "X_train, X_test, y_train, y_test = train_test_split(X, y, test_size=0.2) # 80% training and 20% test\n",
    "#on split nos données à 80% pour le training test et 20% pour le test set "
   ]
  },
  {
   "cell_type": "markdown",
   "metadata": {},
   "source": [
    "On crée ensuite un classificateur gaussien"
   ]
  },
  {
   "cell_type": "code",
   "execution_count": 76,
   "metadata": {},
   "outputs": [],
   "source": [
    "clf=RandomForestClassifier(n_estimators=100)"
   ]
  },
  {
   "cell_type": "markdown",
   "metadata": {},
   "source": [
    "On entraine ensuite le modèle et on lance la prédiction"
   ]
  },
  {
   "cell_type": "code",
   "execution_count": 79,
   "metadata": {},
   "outputs": [],
   "source": [
    "clf.fit(X_train,y_train)\n",
    "y_pred=clf.predict(X_test)"
   ]
  },
  {
   "cell_type": "markdown",
   "metadata": {},
   "source": [
    "#### Calcul du score "
   ]
  },
  {
   "cell_type": "code",
   "execution_count": 2,
   "metadata": {},
   "outputs": [],
   "source": [
    "from sklearn.metrics import accuracy_score, confusion_matrix, precision_score, recall_score, roc_auc_score, roc_curve, f1_score\n",
    "#importation des paramètres de précision"
   ]
  },
  {
   "cell_type": "code",
   "execution_count": 6,
   "metadata": {
    "scrolled": true
   },
   "outputs": [
    {
     "ename": "NameError",
     "evalue": "name 'y_test' is not defined",
     "output_type": "error",
     "traceback": [
      "\u001b[0;31m---------------------------------------------------------------------------\u001b[0m",
      "\u001b[0;31mNameError\u001b[0m                                 Traceback (most recent call last)",
      "\u001b[0;32m<ipython-input-6-bd76c1cc7a81>\u001b[0m in \u001b[0;36m<module>\u001b[0;34m\u001b[0m\n\u001b[0;32m----> 1\u001b[0;31m \u001b[0maccuracy_score\u001b[0m\u001b[0;34m(\u001b[0m\u001b[0my_test\u001b[0m\u001b[0;34m,\u001b[0m \u001b[0my_pred\u001b[0m\u001b[0;34m)\u001b[0m\u001b[0;34m\u001b[0m\u001b[0;34m\u001b[0m\u001b[0m\n\u001b[0m\u001b[1;32m      2\u001b[0m \u001b[0mprint\u001b[0m\u001b[0;34m(\u001b[0m\u001b[0;34mf\"la précision du modéle est  {round(accuracy_score(y_test,y_pred),3)*100} %\"\u001b[0m\u001b[0;34m)\u001b[0m\u001b[0;34m\u001b[0m\u001b[0;34m\u001b[0m\u001b[0m\n",
      "\u001b[0;31mNameError\u001b[0m: name 'y_test' is not defined"
     ]
    }
   ],
   "source": [
    "accuracy_score(y_test, y_pred)\n",
    "print(f\"la précision du modèle est  {round(accuracy_score(y_test,y_pred),3)*100} %\")"
   ]
  },
  {
   "cell_type": "code",
   "execution_count": 80,
   "metadata": {},
   "outputs": [],
   "source": [
    "train_probs = clf.predict_proba(X_train)[:,1] \n",
    "probs = clf.predict_proba(X_test)[:, 1]\n",
    "train_predictions = clf.predict(X_train)"
   ]
  },
  {
   "cell_type": "code",
   "execution_count": 81,
   "metadata": {},
   "outputs": [],
   "source": [
    "y_pred = clf.predict(X_test)"
   ]
  },
  {
   "cell_type": "code",
   "execution_count": 82,
   "metadata": {},
   "outputs": [
    {
     "data": {
      "text/plain": [
       "array([1, 1, 1, ..., 1, 1, 1], dtype=int64)"
      ]
     },
     "execution_count": 82,
     "metadata": {},
     "output_type": "execute_result"
    }
   ],
   "source": [
    "y_pred"
   ]
  },
  {
   "cell_type": "markdown",
   "metadata": {},
   "source": [
    "##### Importance des variables "
   ]
  },
  {
   "cell_type": "code",
   "execution_count": 102,
   "metadata": {},
   "outputs": [
    {
     "data": {
      "text/plain": [
       "array([0.78222906, 0.17285406, 0.04491689])"
      ]
     },
     "execution_count": 102,
     "metadata": {},
     "output_type": "execute_result"
    }
   ],
   "source": [
    "clf.feature_importances_"
   ]
  },
  {
   "cell_type": "markdown",
   "metadata": {},
   "source": [
    "La variable la plus importante est présente."
   ]
  },
  {
   "cell_type": "markdown",
   "metadata": {},
   "source": [
    "##### La courbe ROC Random Forest"
   ]
  },
  {
   "cell_type": "code",
   "execution_count": 100,
   "metadata": {},
   "outputs": [],
   "source": [
    "clf.fit(X_train,y_train)\n",
    "y_pred=clf.predict(X_test)\n",
    "Random_roc_auc = roc_auc_score(y_test, clf.predict(X_test))"
   ]
  },
  {
   "cell_type": "code",
   "execution_count": 101,
   "metadata": {},
   "outputs": [
    {
     "data": {
      "image/png": "[encoded data removed]",
      "text/plain": [
       "<Figure size 432x288 with 1 Axes>"
      ]
     },
     "metadata": {
      "needs_background": "light"
     },
     "output_type": "display_data"
    }
   ],
   "source": [
    "\n",
    "fpr, tpr, thresholds = roc_curve(y_test,clf.predict_proba(X_test)[:,1])\n",
    "plt.figure()\n",
    "plt.plot(fpr, tpr, label='Random forest (area = %0.2f)' % Random_roc_auc)\n",
    "plt.plot([0, 1], [0, 1],'r--')\n",
    "plt.xlim([0.0, 1.0])\n",
    "plt.ylim([0.0, 1.05])\n",
    "plt.xlabel('Taux des faux postifs')\n",
    "plt.ylabel('Taux des vrai postifs')\n",
    "plt.title('La courbe ROC')\n",
    "plt.legend(loc=\"lower right\")\n",
    "plt.savefig('Forest_ROC')\n",
    "plt.show()"
   ]
  },
  {
   "cell_type": "markdown",
   "metadata": {},
   "source": [
    "##### AUC du train et test set \n",
    "On cherche à mesurer la qualité des précisions du modèle quel que soit le seuil de classification sélectionné, on choisi donc d'analyser l'AUC qui correspond à l'aire sous la courbe ROC."
   ]
  },
  {
   "cell_type": "code",
   "execution_count": 71,
   "metadata": {},
   "outputs": [
    {
     "name": "stdout",
     "output_type": "stream",
     "text": [
      "Train ROC AUC Score: 0.513295340102665\n",
      "Test ROC AUC  Score: 0.5128736577965322\n"
     ]
    }
   ],
   "source": [
    "print(f'Train ROC AUC Score: {roc_auc_score(y_train, train_probs)}')\n",
    "print(f'Test ROC AUC  Score: {roc_auc_score(y_test, probs)}')"
   ]
  },
  {
   "cell_type": "markdown",
   "metadata": {},
   "source": [
    "On constate que les AUC du modèle (train et test) sont de 0,51 ce qui signifie qu'un peu plus de la moitié des prédictions du modèle sont correctes. "
   ]
  },
  {
   "cell_type": "markdown",
   "metadata": {},
   "source": [
    "#### Évaluation des performances\n",
    "Afin d'obtenir une meilleure vue d'ensemble nous effectuons une validation croisée."
   ]
  },
  {
   "cell_type": "code",
   "execution_count": 4,
   "metadata": {},
   "outputs": [
    {
     "ename": "NameError",
     "evalue": "name 'cross_val_score' is not defined",
     "output_type": "error",
     "traceback": [
      "\u001b[1;31m---------------------------------------------------------------------------\u001b[0m",
      "\u001b[1;31mNameError\u001b[0m                                 Traceback (most recent call last)",
      "\u001b[1;32m<ipython-input-4-71926a701116>\u001b[0m in \u001b[0;36m<module>\u001b[1;34m\u001b[0m\n\u001b[0;32m      1\u001b[0m \u001b[1;31m# Évaluation du modèle par validation croisée\u001b[0m\u001b[1;33m\u001b[0m\u001b[1;33m\u001b[0m\u001b[1;33m\u001b[0m\u001b[0m\n\u001b[1;32m----> 2\u001b[1;33m \u001b[0mrfc_cv_score\u001b[0m \u001b[1;33m=\u001b[0m \u001b[0mcross_val_score\u001b[0m\u001b[1;33m(\u001b[0m\u001b[0mrfc\u001b[0m\u001b[1;33m,\u001b[0m \u001b[0mX\u001b[0m\u001b[1;33m,\u001b[0m \u001b[0my\u001b[0m\u001b[1;33m,\u001b[0m \u001b[0mcv\u001b[0m\u001b[1;33m=\u001b[0m\u001b[1;36m3\u001b[0m\u001b[1;33m,\u001b[0m \u001b[0merror_score\u001b[0m\u001b[1;33m=\u001b[0m\u001b[1;34m'roc_auc'\u001b[0m\u001b[1;33m)\u001b[0m\u001b[1;33m\u001b[0m\u001b[1;33m\u001b[0m\u001b[0m\n\u001b[0m\u001b[0;32m      3\u001b[0m \u001b[1;33m\u001b[0m\u001b[0m\n\u001b[0;32m      4\u001b[0m \u001b[1;32mfrom\u001b[0m \u001b[0msklearn\u001b[0m\u001b[1;33m.\u001b[0m\u001b[0mmetrics\u001b[0m \u001b[1;32mimport\u001b[0m \u001b[0maccuracy_score\u001b[0m\u001b[1;33m,\u001b[0m \u001b[0mconfusion_matrix\u001b[0m\u001b[1;33m,\u001b[0m \u001b[0mprecision_score\u001b[0m\u001b[1;33m,\u001b[0m \u001b[0mrecall_score\u001b[0m\u001b[1;33m,\u001b[0m \u001b[0mroc_auc_score\u001b[0m\u001b[1;33m,\u001b[0m \u001b[0mroc_curve\u001b[0m\u001b[1;33m,\u001b[0m \u001b[0mf1_score\u001b[0m\u001b[1;33m\u001b[0m\u001b[1;33m\u001b[0m\u001b[0m\n\u001b[0;32m      5\u001b[0m \u001b[0maccuracy_score\u001b[0m\u001b[1;33m(\u001b[0m\u001b[0my_test\u001b[0m\u001b[1;33m,\u001b[0m \u001b[0mrfc_predict\u001b[0m\u001b[1;33m)\u001b[0m\u001b[1;33m\u001b[0m\u001b[1;33m\u001b[0m\u001b[0m\n",
      "\u001b[1;31mNameError\u001b[0m: name 'cross_val_score' is not defined"
     ]
    }
   ],
   "source": [
    "# Évaluation du modèle par validation croisée \n",
    "rfc_cv_score = cross_val_score(rfc, X, y, cv=3, error_score='roc_auc')\n",
    "\n",
    "from sklearn.metrics import accuracy_score, confusion_matrix, precision_score, recall_score, roc_auc_score, roc_curve, f1_score\n",
    "accuracy_score(y_test, rfc_predict)\n",
    "print(f\"la précision du modèle est  {round(accuracy_score(y_test,rfc_predict),3)*100} %\")"
   ]
  },
  {
   "cell_type": "code",
   "execution_count": 61,
   "metadata": {},
   "outputs": [
    {
     "name": "stdout",
     "output_type": "stream",
     "text": [
      "=== Confusion Matrix ===\n",
      "[[   0    1    2    0    2  511]\n",
      " [   0   37    0    0    5  860]\n",
      " [   0    1   25    0   14 2298]\n",
      " [   0    0    2    0    0    0]\n",
      " [   0    2    5    0   21 2155]\n",
      " [   0    8   15    0   11 3186]]\n",
      "\n",
      "\n",
      "=== Classification Report ===\n",
      "                      precision    recall  f1-score   support\n",
      "\n",
      "CRTICALLY_ENDANGERED       0.00      0.00      0.00       516\n",
      "      DATA_DEFICIENT       0.76      0.04      0.08       902\n",
      "          ENDANGERED       0.51      0.01      0.02      2338\n",
      "             EXTINCT       0.00      0.00      0.00         2\n",
      "     NEAR_THREATENED       0.40      0.01      0.02      2183\n",
      "          Vulnerable       0.35      0.99      0.52      3220\n",
      "\n",
      "            accuracy                           0.36      9161\n",
      "           macro avg       0.34      0.18      0.11      9161\n",
      "        weighted avg       0.42      0.36      0.20      9161\n",
      "\n",
      "\n",
      "\n",
      "=== All AUC Scores ===\n",
      "[0.35093005 0.3568481  0.35147704]\n",
      "\n",
      "\n",
      "=== Mean AUC Score ===\n",
      "Mean AUC Score - Random Forest:  0.3530850651721627\n"
     ]
    },
    {
     "name": "stderr",
     "output_type": "stream",
     "text": [
      "/Applications/anaconda3/lib/python3.7/site-packages/sklearn/metrics/_classification.py:1272: UndefinedMetricWarning: Precision and F-score are ill-defined and being set to 0.0 in labels with no predicted samples. Use `zero_division` parameter to control this behavior.\n",
      "  _warn_prf(average, modifier, msg_start, len(result))\n"
     ]
    }
   ],
   "source": [
    "print(\"=== Confusion Matrix ===\")\n",
    "print(confusion_matrix(y_test, rfc_predict))\n",
    "print('\\n')\n",
    "print(\"=== Classification Report ===\")\n",
    "print(classification_report(y_test, rfc_predict))\n",
    "print('\\n')\n",
    "print(\"=== All AUC Scores ===\")\n",
    "print(rfc_cv_score)\n",
    "print('\\n')\n",
    "print(\"=== Mean AUC Score ===\")\n",
    "print(\"Mean AUC Score - Random Forest: \", rfc_cv_score.mean())"
   ]
  },
  {
   "cell_type": "markdown",
   "metadata": {},
   "source": [
    "Selon le score du roc_auc la précision du modèle est de 35,3% ce qui est faible.\n",
    "\n",
    "\n",
    "\n"
   ]
  },
  {
   "cell_type": "markdown",
   "metadata": {},
   "source": [
    "On cherche les meilleurs estimateurs afin d'optimiser nos hyperparamètres.\n",
    "\n",
    "On se concentre sur 3 hyperparamètres : n_estimators, max_features, max_depth."
   ]
  },
  {
   "cell_type": "code",
   "execution_count": 50,
   "metadata": {},
   "outputs": [],
   "source": [
    "\n",
    "# number of trees in random forest\n",
    "n_estimators = [int(x) for x in np.linspace(start = 200, stop = 2000, num = 10)]\n",
    "# number of features at every split\n",
    "max_features = ['auto', 'sqrt']\n",
    "\n",
    "# max depth\n",
    "max_depth = [int(x) for x in np.linspace(100, 500, num = 11)]\n",
    "max_depth.append(None)\n",
    "\n",
    "# create random grid\n",
    "random_grid = {\n",
    " 'n_estimators': n_estimators,\n",
    " 'max_features': max_features,\n",
    " 'max_depth': max_depth\n",
    " }"
   ]
  },
  {
   "cell_type": "code",
   "execution_count": 53,
   "metadata": {},
   "outputs": [
    {
     "name": "stdout",
     "output_type": "stream",
     "text": [
      "Fitting 2 folds for each of 100 candidates, totalling 200 fits\n"
     ]
    },
    {
     "name": "stderr",
     "output_type": "stream",
     "text": [
      "[Parallel(n_jobs=-1)]: Using backend LokyBackend with 4 concurrent workers.\n",
      "[Parallel(n_jobs=-1)]: Done  33 tasks      | elapsed:  1.1min\n",
      "[Parallel(n_jobs=-1)]: Done 154 tasks      | elapsed:  5.1min\n",
      "[Parallel(n_jobs=-1)]: Done 200 out of 200 | elapsed:  6.4min finished\n"
     ]
    },
    {
     "data": {
      "text/plain": [
       "RandomizedSearchCV(cv=2, error_score=nan,\n",
       "                   estimator=RandomForestClassifier(bootstrap=True,\n",
       "                                                    ccp_alpha=0.0,\n",
       "                                                    class_weight=None,\n",
       "                                                    criterion='gini',\n",
       "                                                    max_depth=None,\n",
       "                                                    max_features='auto',\n",
       "                                                    max_leaf_nodes=None,\n",
       "                                                    max_samples=None,\n",
       "                                                    min_impurity_decrease=0.0,\n",
       "                                                    min_impurity_split=None,\n",
       "                                                    min_samples_leaf=1,\n",
       "                                                    min_samples_split=2,\n",
       "                                                    min_weight_fraction_leaf=0.0,\n",
       "                                                    n_estimators=100,\n",
       "                                                    n_jobs...\n",
       "                                                    random_state=None,\n",
       "                                                    verbose=0,\n",
       "                                                    warm_start=False),\n",
       "                   iid='deprecated', n_iter=100, n_jobs=-1,\n",
       "                   param_distributions={'max_depth': [100, 140, 180, 220, 260,\n",
       "                                                      300, 340, 380, 420, 460,\n",
       "                                                      500, None],\n",
       "                                        'max_features': ['auto', 'sqrt'],\n",
       "                                        'n_estimators': [200, 400, 600, 800,\n",
       "                                                         1000, 1200, 1400, 1600,\n",
       "                                                         1800, 2000]},\n",
       "                   pre_dispatch='2*n_jobs', random_state=42, refit='TRUE',\n",
       "                   return_train_score=False, scoring=None, verbose=2)"
      ]
     },
     "execution_count": 53,
     "metadata": {},
     "output_type": "execute_result"
    }
   ],
   "source": [
    "# Random search of parameters\n",
    "rfc_random = RandomizedSearchCV(estimator = rfc, param_distributions = random_grid, n_iter = 100, cv = 2, verbose=2, refit='TRUE', random_state=42, n_jobs = -1)\n",
    "\n",
    "\n",
    "# Fit the model\n",
    "rfc_random.fit(X_train, y_train)"
   ]
  },
  {
   "cell_type": "code",
   "execution_count": 54,
   "metadata": {},
   "outputs": [
    {
     "name": "stdout",
     "output_type": "stream",
     "text": [
      "{'n_estimators': 800, 'max_features': 'sqrt', 'max_depth': 260}\n"
     ]
    }
   ],
   "source": [
    "# print results\n",
    "print(rfc_random.best_params_)"
   ]
  },
  {
   "cell_type": "markdown",
   "metadata": {},
   "source": [
    "On remplace les estimations trouvées dans la nouvelle classification."
   ]
  },
  {
   "cell_type": "code",
   "execution_count": 56,
   "metadata": {},
   "outputs": [
    {
     "name": "stdout",
     "output_type": "stream",
     "text": [
      "=== Confusion Matrix ===\n",
      "[[  20    0    5    0    0    3  448]\n",
      " [   3   30    0    0    0    7  818]\n",
      " [  11    1   18    0    0   13 2312]\n",
      " [   0    0    0    0    0    1    0]\n",
      " [   0    0    4    0    0    0    0]\n",
      " [   5    4    4    0    0   17 2146]\n",
      " [  27    6   15    0    0   11 3232]]\n",
      "\n",
      "\n",
      "=== Classification Report ===\n",
      "                      precision    recall  f1-score   support\n",
      "\n",
      "CRTICALLY_ENDANGERED       0.30      0.04      0.07       476\n",
      "      DATA_DEFICIENT       0.73      0.03      0.07       858\n",
      "          ENDANGERED       0.39      0.01      0.01      2355\n",
      "      ETINCT_IN_WILD       0.00      0.00      0.00         1\n",
      "             EXTINCT       0.00      0.00      0.00         4\n",
      "     NEAR_THREATENED       0.33      0.01      0.02      2176\n",
      "          Vulnerable       0.36      0.98      0.53      3291\n",
      "\n",
      "            accuracy                           0.36      9161\n",
      "           macro avg       0.30      0.15      0.10      9161\n",
      "        weighted avg       0.39      0.36      0.21      9161\n",
      "\n",
      "\n",
      "\n",
      "=== All AUC Scores ===\n",
      "[0.35093005 0.3568481  0.35147704]\n",
      "\n",
      "\n",
      "=== Mean AUC Score ===\n",
      "Mean AUC Score - Random Forest:  0.3530850651721627\n"
     ]
    },
    {
     "name": "stderr",
     "output_type": "stream",
     "text": [
      "/Applications/anaconda3/lib/python3.7/site-packages/sklearn/metrics/_classification.py:1272: UndefinedMetricWarning: Precision and F-score are ill-defined and being set to 0.0 in labels with no predicted samples. Use `zero_division` parameter to control this behavior.\n",
      "  _warn_prf(average, modifier, msg_start, len(result))\n"
     ]
    }
   ],
   "source": [
    "rfc = RandomForestClassifier(n_estimators=800, max_depth=260, max_features='sqrt')\n",
    "rfc.fit(X_train,y_train)\n",
    "rfc_predict = rfc.predict(X_test)\n",
    "rfc_cv_score = cross_val_score(rfc, X, y, cv=3, error_score='roc_auc')\n",
    "print(\"=== Confusion Matrix ===\")\n",
    "print(confusion_matrix(y_test, rfc_predict))\n",
    "print('\\n')\n",
    "print(\"=== Classification Report ===\")\n",
    "print(classification_report(y_test, rfc_predict))\n",
    "print('\\n')\n",
    "print(\"=== All AUC Scores ===\")\n",
    "print(rfc_cv_score)\n",
    "print('\\n')\n",
    "print(\"=== Mean AUC Score ===\")\n",
    "print(\"Mean AUC Score - Random Forest: \", rfc_cv_score.mean())"
   ]
  },
  {
   "cell_type": "markdown",
   "metadata": {},
   "source": [
    "Malgré notre sélection de paramètre la qualité de précision de notre modèle reste inchangé."
   ]
  },
  {
   "cell_type": "markdown",
   "metadata": {},
   "source": [
    "## 3. Classifaction SVM "
   ]
  },
  {
   "cell_type": "code",
   "execution_count": 23,
   "metadata": {},
   "outputs": [
    {
     "name": "stdout",
     "output_type": "stream",
     "text": [
      "[[1 1 1]\n",
      " [1 1 1]\n",
      " [1 1 1]\n",
      " ...\n",
      " [1 1 1]\n",
      " [1 1 1]\n",
      " [1 1 1]]\n"
     ]
    }
   ],
   "source": [
    "X= data.iloc[:,0:3].values\n",
    "print(X_train)"
   ]
  },
  {
   "cell_type": "code",
   "execution_count": 184,
   "metadata": {},
   "outputs": [],
   "source": [
    "#Splitting the dataset into training and test samples\n",
    "\n",
    "training_set, test_set = train_test_split(data, test_size = 0.2, random_state = 1)\n",
    "\n",
    "#Classifying the predictors and target\n",
    "X_train = training_set.iloc[:,0:3].values\n",
    "Y_train = training_set.iloc[:,3].values\n",
    "X_test = test_set.iloc[:,0:3].values\n",
    "Y_test = test_set.iloc[:,3].values\n",
    "\n",
    "classifier = SVC(kernel='rbf', random_state = 4)\n",
    "clf = SVC(kernel='linear',random_state = 4)"
   ]
  },
  {
   "cell_type": "code",
   "execution_count": 185,
   "metadata": {},
   "outputs": [
    {
     "name": "stdout",
     "output_type": "stream",
     "text": [
      "['Vulnerable' 'Vulnerable' 'CRTICALLY_ENDANGERED' ... 'NEAR_THREATENED'\n",
      " 'CRTICALLY_ENDANGERED' 'CRTICALLY_ENDANGERED']\n"
     ]
    }
   ],
   "source": [
    "print(Y_test)"
   ]
  },
  {
   "cell_type": "code",
   "execution_count": 186,
   "metadata": {},
   "outputs": [
    {
     "name": "stderr",
     "output_type": "stream",
     "text": [
      "<ipython-input-186-6179cc9092fc>:4: SettingWithCopyWarning: \n",
      "A value is trying to be set on a copy of a slice from a DataFrame.\n",
      "Try using .loc[row_indexer,col_indexer] = value instead\n",
      "\n",
      "See the caveats in the documentation: https://pandas.pydata.org/pandas-docs/stable/user_guide/indexing.html#returning-a-view-versus-a-copy\n",
      "  test_set[\"Predictions\"] = Y_pred\n"
     ]
    },
    {
     "data": {
      "text/html": [
       "<div>\n",
       "<style scoped>\n",
       "    .dataframe tbody tr th:only-of-type {\n",
       "        vertical-align: middle;\n",
       "    }\n",
       "\n",
       "    .dataframe tbody tr th {\n",
       "        vertical-align: top;\n",
       "    }\n",
       "\n",
       "    .dataframe thead th {\n",
       "        text-align: right;\n",
       "    }\n",
       "</style>\n",
       "<table border=\"1\" class=\"dataframe\">\n",
       "  <thead>\n",
       "    <tr style=\"text-align: right;\">\n",
       "      <th></th>\n",
       "      <th>presence</th>\n",
       "      <th>origin</th>\n",
       "      <th>seasonal</th>\n",
       "      <th>Red List Category</th>\n",
       "      <th>Predictions</th>\n",
       "    </tr>\n",
       "  </thead>\n",
       "  <tbody>\n",
       "    <tr>\n",
       "      <th>16859</th>\n",
       "      <td>1</td>\n",
       "      <td>1</td>\n",
       "      <td>1</td>\n",
       "      <td>Vulnerable</td>\n",
       "      <td>Vulnerable</td>\n",
       "    </tr>\n",
       "    <tr>\n",
       "      <th>25237</th>\n",
       "      <td>1</td>\n",
       "      <td>1</td>\n",
       "      <td>1</td>\n",
       "      <td>Vulnerable</td>\n",
       "      <td>Vulnerable</td>\n",
       "    </tr>\n",
       "    <tr>\n",
       "      <th>45485</th>\n",
       "      <td>1</td>\n",
       "      <td>1</td>\n",
       "      <td>1</td>\n",
       "      <td>CRTICALLY_ENDANGERED</td>\n",
       "      <td>Vulnerable</td>\n",
       "    </tr>\n",
       "    <tr>\n",
       "      <th>36580</th>\n",
       "      <td>4</td>\n",
       "      <td>1</td>\n",
       "      <td>1</td>\n",
       "      <td>CRTICALLY_ENDANGERED</td>\n",
       "      <td>Vulnerable</td>\n",
       "    </tr>\n",
       "    <tr>\n",
       "      <th>1475</th>\n",
       "      <td>1</td>\n",
       "      <td>1</td>\n",
       "      <td>1</td>\n",
       "      <td>DATA_DEFICIENT</td>\n",
       "      <td>Vulnerable</td>\n",
       "    </tr>\n",
       "    <tr>\n",
       "      <th>...</th>\n",
       "      <td>...</td>\n",
       "      <td>...</td>\n",
       "      <td>...</td>\n",
       "      <td>...</td>\n",
       "      <td>...</td>\n",
       "    </tr>\n",
       "    <tr>\n",
       "      <th>18957</th>\n",
       "      <td>1</td>\n",
       "      <td>1</td>\n",
       "      <td>1</td>\n",
       "      <td>NEAR_THREATENED</td>\n",
       "      <td>Vulnerable</td>\n",
       "    </tr>\n",
       "    <tr>\n",
       "      <th>21713</th>\n",
       "      <td>1</td>\n",
       "      <td>1</td>\n",
       "      <td>1</td>\n",
       "      <td>DATA_DEFICIENT</td>\n",
       "      <td>Vulnerable</td>\n",
       "    </tr>\n",
       "    <tr>\n",
       "      <th>5470</th>\n",
       "      <td>6</td>\n",
       "      <td>5</td>\n",
       "      <td>1</td>\n",
       "      <td>NEAR_THREATENED</td>\n",
       "      <td>DATA_DEFICIENT</td>\n",
       "    </tr>\n",
       "    <tr>\n",
       "      <th>628</th>\n",
       "      <td>1</td>\n",
       "      <td>1</td>\n",
       "      <td>1</td>\n",
       "      <td>CRTICALLY_ENDANGERED</td>\n",
       "      <td>Vulnerable</td>\n",
       "    </tr>\n",
       "    <tr>\n",
       "      <th>10521</th>\n",
       "      <td>1</td>\n",
       "      <td>1</td>\n",
       "      <td>1</td>\n",
       "      <td>CRTICALLY_ENDANGERED</td>\n",
       "      <td>Vulnerable</td>\n",
       "    </tr>\n",
       "  </tbody>\n",
       "</table>\n",
       "<p>9161 rows × 5 columns</p>\n",
       "</div>"
      ],
      "text/plain": [
       "       presence  origin  seasonal     Red List Category     Predictions\n",
       "16859         1       1         1            Vulnerable      Vulnerable\n",
       "25237         1       1         1            Vulnerable      Vulnerable\n",
       "45485         1       1         1  CRTICALLY_ENDANGERED      Vulnerable\n",
       "36580         4       1         1  CRTICALLY_ENDANGERED      Vulnerable\n",
       "1475          1       1         1        DATA_DEFICIENT      Vulnerable\n",
       "...         ...     ...       ...                   ...             ...\n",
       "18957         1       1         1       NEAR_THREATENED      Vulnerable\n",
       "21713         1       1         1        DATA_DEFICIENT      Vulnerable\n",
       "5470          6       5         1       NEAR_THREATENED  DATA_DEFICIENT\n",
       "628           1       1         1  CRTICALLY_ENDANGERED      Vulnerable\n",
       "10521         1       1         1  CRTICALLY_ENDANGERED      Vulnerable\n",
       "\n",
       "[9161 rows x 5 columns]"
      ]
     },
     "execution_count": 186,
     "metadata": {},
     "output_type": "execute_result"
    }
   ],
   "source": [
    "#Prediction des classes pour test_set == SVC(kernel='rbf')\n",
    "classifier.fit(X_train,Y_train)\n",
    "Y_pred = classifier.predict(X_test)\n",
    "test_set[\"Predictions\"] = Y_pred\n",
    "test_set"
   ]
  },
  {
   "cell_type": "code",
   "execution_count": 187,
   "metadata": {},
   "outputs": [
    {
     "name": "stderr",
     "output_type": "stream",
     "text": [
      "C:\\Users\\alexa\\Anaconda3\\lib\\site-packages\\sklearn\\metrics\\_classification.py:1221: UndefinedMetricWarning: Precision and F-score are ill-defined and being set to 0.0 in labels with no predicted samples. Use `zero_division` parameter to control this behavior.\n",
      "  _warn_prf(average, modifier, msg_start, len(result))\n"
     ]
    },
    {
     "name": "stdout",
     "output_type": "stream",
     "text": [
      "\n",
      "Précision du SVM pour l’ensemble de données donné :  0.35323654622857764\n",
      "[[   1    0    2    0    2  478]\n",
      " [   1   36    0    0    7  849]\n",
      " [   0    1   15    0   18 2378]\n",
      " [   0    0    5    0    0    0]\n",
      " [   0    4   10    0   16 2134]\n",
      " [   0   11   11    0   14 3168]]\n",
      "                      precision    recall  f1-score   support\n",
      "\n",
      "CRTICALLY_ENDANGERED       0.50      0.00      0.00       483\n",
      "      DATA_DEFICIENT       0.69      0.04      0.08       893\n",
      "          ENDANGERED       0.35      0.01      0.01      2412\n",
      "             EXTINCT       0.00      0.00      0.00         5\n",
      "     NEAR_THREATENED       0.28      0.01      0.01      2164\n",
      "          Vulnerable       0.35      0.99      0.52      3204\n",
      "\n",
      "            accuracy                           0.35      9161\n",
      "           macro avg       0.36      0.17      0.10      9161\n",
      "        weighted avg       0.38      0.35      0.20      9161\n",
      "\n"
     ]
    }
   ],
   "source": [
    "#exactitude des prédictions\n",
    "\n",
    "cm = confusion_matrix(Y_test,Y_pred)\n",
    "accuracy = float(cm.diagonal().sum())/len(Y_test)\n",
    "cr=classification_report(Y_test,Y_pred)\n",
    "print(\"\\nPrécision du SVM pour l’ensemble de données donné : \", accuracy)\n",
    "print(cm)\n",
    "print(cr)"
   ]
  },
  {
   "cell_type": "markdown",
   "metadata": {},
   "source": [
    "On a une précision de 0.35, ce qui est déjà meilleur que le hasard.\n",
    "Dans la matrice de confusion, on voit qu'il y a 483 points dans la classe 1 (\"CRTICALLY_ENDANGERED\"), cependant seulement 1 point a été correctement prédit. 2 points ont été marqué comme classe 3 et 5 (\"ENDANGERED\" et \"NEAR_THREATENED\") et 478 point marqués comme classe 6 (\"Vulnerable\"). On voit que le modèle a tendance classer les points dans la catégorie 'Vulnerable'. Il est de même pour la prédiction des autres classes ou l'on retrouve la majorité des points marqués dans la classe 6."
   ]
  },
  {
   "cell_type": "code",
   "execution_count": 188,
   "metadata": {},
   "outputs": [
    {
     "name": "stderr",
     "output_type": "stream",
     "text": [
      "C:\\Users\\alexa\\Anaconda3\\lib\\site-packages\\sklearn\\metrics\\_classification.py:1221: UndefinedMetricWarning: Precision and F-score are ill-defined and being set to 0.0 in labels with no predicted samples. Use `zero_division` parameter to control this behavior.\n",
      "  _warn_prf(average, modifier, msg_start, len(result))\n"
     ]
    },
    {
     "name": "stdout",
     "output_type": "stream",
     "text": [
      "\n",
      "Précision du SVM pour l’ensemble de données donné :  0.3531273878397555\n",
      "[[   0    1   33    0    0  449]\n",
      " [   0   37   10    0    0  846]\n",
      " [   0    1   50    0    0 2361]\n",
      " [   0    0    5    0    0    0]\n",
      " [   0    4   33    0    0 2127]\n",
      " [   0   11   45    0    0 3148]]\n",
      "                      precision    recall  f1-score   support\n",
      "\n",
      "CRTICALLY_ENDANGERED       0.00      0.00      0.00       483\n",
      "      DATA_DEFICIENT       0.69      0.04      0.08       893\n",
      "          ENDANGERED       0.28      0.02      0.04      2412\n",
      "             EXTINCT       0.00      0.00      0.00         5\n",
      "     NEAR_THREATENED       0.00      0.00      0.00      2164\n",
      "          Vulnerable       0.35      0.98      0.52      3204\n",
      "\n",
      "            accuracy                           0.35      9161\n",
      "           macro avg       0.22      0.17      0.11      9161\n",
      "        weighted avg       0.26      0.35      0.20      9161\n",
      "\n"
     ]
    }
   ],
   "source": [
    "#SVC(kernel='linear')\n",
    "\n",
    "clf.fit(X_train,Y_train)\n",
    "Y_pred = clf.predict(X_test)\n",
    "score = clf.score(X_train, Y_train)\n",
    "cm = confusion_matrix(Y_test,Y_pred)\n",
    "accuracy = float(cm.diagonal().sum())/len(Y_test)\n",
    "cr=classification_report(Y_test,Y_pred)\n",
    "print(\"\\nPrécision du SVM pour l’ensemble de données donné : \", accuracy)\n",
    "print(cm)\n",
    "print(cr)"
   ]
  },
  {
   "cell_type": "markdown",
   "metadata": {},
   "source": [
    "On peut faire la même remarque que précédement.\n",
    "Cette fois ci, avec un noyau linéaire, plus de points sont classés dans la classe 3 mais très faible comparé a la classe 6.\n",
    "Par exemple, précédement, parmi les 2412 points de la classe 3, 15 points ont été correctement prédis. Avec un noyau linéaire, on atteint jusqu'à 50 points. Mais ca reste très faible puisqu'il y a encore 2361 points qui est classé dans la classe 6.\n",
    "\n",
    "Remarque: il y a normalement 7 classes, le résultat des deux algorithmes ne montrent que 6 classes. La classe \"ETINCT_IN_WILD\" qui ne contient que 3 observations n'a pas été intégré."
   ]
  },
  {
   "cell_type": "markdown",
   "metadata": {},
   "source": [
    "##### Réequilibrage du poids des classes"
   ]
  },
  {
   "cell_type": "markdown",
   "metadata": {},
   "source": [
    "On essaie maintenant d'appliquer les mêmes algorithmes sur le même échantillon, en équillibrant le poids de chaque classe.\n",
    "On le force à prédire plus souvent les classes minoritaires."
   ]
  },
  {
   "cell_type": "code",
   "execution_count": 189,
   "metadata": {},
   "outputs": [],
   "source": [
    "classifier=[SVC(kernel='rbf', random_state = 4,class_weight='balanced'), \n",
    "            SVC(kernel='linear', random_state = 4,class_weight='balanced'),\n",
    "            LinearSVC(verbose=0,class_weight='balanced')]"
   ]
  },
  {
   "cell_type": "code",
   "execution_count": 190,
   "metadata": {},
   "outputs": [
    {
     "name": "stderr",
     "output_type": "stream",
     "text": [
      "C:\\Users\\alexa\\Anaconda3\\lib\\site-packages\\sklearn\\metrics\\_classification.py:1221: UndefinedMetricWarning: Precision and F-score are ill-defined and being set to 0.0 in labels with no predicted samples. Use `zero_division` parameter to control this behavior.\n",
      "  _warn_prf(average, modifier, msg_start, len(result))\n"
     ]
    },
    {
     "name": "stdout",
     "output_type": "stream",
     "text": [
      "\n",
      "Précision du SVM pour l’ensemble de données donné :  0.24211330640759743\n",
      "[[  30    2    0    2  449    0]\n",
      " [   4   43    0    0  846    0]\n",
      " [  17   19   15   15 2346    0]\n",
      " [   0    0    0    5    0    0]\n",
      " [   7   20    2   10 2125    0]\n",
      " [  20   25   18   11 3130    0]]\n",
      "                      precision    recall  f1-score   support\n",
      "\n",
      "CRTICALLY_ENDANGERED       0.38      0.06      0.11       483\n",
      "      DATA_DEFICIENT       0.39      0.05      0.09       893\n",
      "          ENDANGERED       0.43      0.01      0.01      2412\n",
      "             EXTINCT       0.12      1.00      0.21         5\n",
      "     NEAR_THREATENED       0.24      0.98      0.38      2164\n",
      "          Vulnerable       0.00      0.00      0.00      3204\n",
      "\n",
      "            accuracy                           0.24      9161\n",
      "           macro avg       0.26      0.35      0.13      9161\n",
      "        weighted avg       0.23      0.24      0.11      9161\n",
      "\n"
     ]
    },
    {
     "name": "stderr",
     "output_type": "stream",
     "text": [
      "C:\\Users\\alexa\\Anaconda3\\lib\\site-packages\\sklearn\\metrics\\_classification.py:1221: UndefinedMetricWarning: Precision and F-score are ill-defined and being set to 0.0 in labels with no predicted samples. Use `zero_division` parameter to control this behavior.\n",
      "  _warn_prf(average, modifier, msg_start, len(result))\n",
      "C:\\Users\\alexa\\Anaconda3\\lib\\site-packages\\sklearn\\metrics\\_classification.py:1221: UndefinedMetricWarning: Recall and F-score are ill-defined and being set to 0.0 in labels with no true samples. Use `zero_division` parameter to control this behavior.\n",
      "  _warn_prf(average, modifier, msg_start, len(result))\n"
     ]
    },
    {
     "name": "stdout",
     "output_type": "stream",
     "text": [
      "\n",
      "Précision du SVM pour l’ensemble de données donné :  0.3494160026198013\n",
      "[[  29    1    0    0    4    0  449]\n",
      " [   3   37    0    0    7    0  846]\n",
      " [  32    1    0    0   33    0 2346]\n",
      " [   0    0    0    0    0    0    0]\n",
      " [   0    0    0    0    5    0    0]\n",
      " [   9    4    0    0   26    0 2125]\n",
      " [  38   10    0    1   25    0 3130]]\n",
      "                      precision    recall  f1-score   support\n",
      "\n",
      "CRTICALLY_ENDANGERED       0.26      0.06      0.10       483\n",
      "      DATA_DEFICIENT       0.70      0.04      0.08       893\n",
      "          ENDANGERED       0.00      0.00      0.00      2412\n",
      "      ETINCT_IN_WILD       0.00      0.00      0.00         0\n",
      "             EXTINCT       0.05      1.00      0.10         5\n",
      "     NEAR_THREATENED       0.00      0.00      0.00      2164\n",
      "          Vulnerable       0.35      0.98      0.52      3204\n",
      "\n",
      "            accuracy                           0.35      9161\n",
      "           macro avg       0.19      0.30      0.11      9161\n",
      "        weighted avg       0.20      0.35      0.19      9161\n",
      "\n"
     ]
    },
    {
     "name": "stderr",
     "output_type": "stream",
     "text": [
      "C:\\Users\\alexa\\Anaconda3\\lib\\site-packages\\sklearn\\svm\\_base.py:976: ConvergenceWarning: Liblinear failed to converge, increase the number of iterations.\n",
      "  warnings.warn(\"Liblinear failed to converge, increase \"\n",
      "C:\\Users\\alexa\\Anaconda3\\lib\\site-packages\\sklearn\\metrics\\_classification.py:1221: UndefinedMetricWarning: Precision and F-score are ill-defined and being set to 0.0 in labels with no predicted samples. Use `zero_division` parameter to control this behavior.\n",
      "  _warn_prf(average, modifier, msg_start, len(result))\n",
      "C:\\Users\\alexa\\Anaconda3\\lib\\site-packages\\sklearn\\metrics\\_classification.py:1221: UndefinedMetricWarning: Recall and F-score are ill-defined and being set to 0.0 in labels with no true samples. Use `zero_division` parameter to control this behavior.\n",
      "  _warn_prf(average, modifier, msg_start, len(result))\n"
     ]
    },
    {
     "name": "stdout",
     "output_type": "stream",
     "text": [
      "\n",
      "Précision du SVM pour l’ensemble de données donné :  0.3452679838445585\n",
      "[[  33    0    0    1    0    0  449]\n",
      " [  10    0    0   37    0    0  846]\n",
      " [  65    0    0    1    0    0 2346]\n",
      " [   0    0    0    0    0    0    0]\n",
      " [   5    0    0    0    0    0    0]\n",
      " [  35    0    0    4    0    0 2125]\n",
      " [  63    0    0   11    0    0 3130]]\n",
      "                      precision    recall  f1-score   support\n",
      "\n",
      "CRTICALLY_ENDANGERED       0.16      0.07      0.10       483\n",
      "      DATA_DEFICIENT       0.00      0.00      0.00       893\n",
      "          ENDANGERED       0.00      0.00      0.00      2412\n",
      "      ETINCT_IN_WILD       0.00      0.00      0.00         0\n",
      "             EXTINCT       0.00      0.00      0.00         5\n",
      "     NEAR_THREATENED       0.00      0.00      0.00      2164\n",
      "          Vulnerable       0.35      0.98      0.52      3204\n",
      "\n",
      "            accuracy                           0.35      9161\n",
      "           macro avg       0.07      0.15      0.09      9161\n",
      "        weighted avg       0.13      0.35      0.19      9161\n",
      "\n"
     ]
    }
   ],
   "source": [
    "for i in classifier:\n",
    "    i.fit(X_train,Y_train)\n",
    "    Y_pred = i.predict(X_test)\n",
    "    cm = confusion_matrix(Y_test,Y_pred)\n",
    "    cr=classification_report(Y_test,Y_pred)\n",
    "    accuracy = float(cm.diagonal().sum())/len(Y_test)\n",
    "    print(\"\\nPrécision du SVM pour l’ensemble de données donné : \", accuracy)\n",
    "    print(cm)\n",
    "    print(cr)"
   ]
  },
  {
   "cell_type": "markdown",
   "metadata": {},
   "source": [
    "La classification avec le noyau \"Rbf\" donne une précision de 0.24 ce qui a diminué de manière importante (si l'on compare aux deux autres méthodes utilisées). On a seulement 6 classes comme précédement. Cependant, on voit que contrairement a précédement, les points n'ont plus une tendance a être classé dans la classe \"Vulnerable\" mais plutôt dans la classe \"NEAR_THREATENED\".\n",
    "\n",
    "La classification avec le noyau linéaire ou avec linearSVC donne un résultat assez proche par rapport a précédement avec une précision d'environ 0.34 avec les points qui ont tendance à être classé dans la classe \"Vulnerable\". On a cette fois-ci les 7 classes mais dans l'échantillon il n'y a pas de point appartenant à la classe \"ETINCT_IN_WILD\".\n",
    "\n",
    "Pour une classification de 7 classes, un accuracy de 0.34 est acceptable."
   ]
  },
  {
   "cell_type": "markdown",
   "metadata": {},
   "source": [
    "##### Classification en deux catégories "
   ]
  },
  {
   "cell_type": "markdown",
   "metadata": {},
   "source": [
    "Maintenant, on essaie de travailler sur des classes binaires, on regroupe donc en 2 classes."
   ]
  },
  {
   "cell_type": "code",
   "execution_count": 191,
   "metadata": {},
   "outputs": [],
   "source": [
    "training_set, test_set = train_test_split(data_deux_catégories, test_size = 0.2, random_state = 1)\n",
    "\n",
    "#Classifying the predictors and target\n",
    "X_train = training_set.iloc[:,0:3].values\n",
    "Y_train = training_set.iloc[:,3].values\n",
    "X_test = test_set.iloc[:,0:3].values\n",
    "Y_test = test_set.iloc[:,3].values"
   ]
  },
  {
   "cell_type": "code",
   "execution_count": 192,
   "metadata": {},
   "outputs": [
    {
     "name": "stdout",
     "output_type": "stream",
     "text": [
      "Score:  0.9413079595227307\n"
     ]
    },
    {
     "name": "stderr",
     "output_type": "stream",
     "text": [
      "C:\\Users\\alexa\\Anaconda3\\lib\\site-packages\\sklearn\\svm\\_base.py:976: ConvergenceWarning: Liblinear failed to converge, increase the number of iterations.\n",
      "  warnings.warn(\"Liblinear failed to converge, increase \"\n"
     ]
    }
   ],
   "source": [
    "#SVC linéaire\n",
    "\n",
    "lsvc = LinearSVC(verbose=0)\n",
    "lsvc.fit(X_train, Y_train)\n",
    "score = lsvc.score(X_train, Y_train)\n",
    "print(\"Score: \", score)"
   ]
  },
  {
   "cell_type": "markdown",
   "metadata": {},
   "source": [
    "Un accuracy de 0.94 ce qui très élevé, mais à comparer avec les autres algorithmes.\n",
    "Cela est sûrement dû au déséquilibre des 2 classes."
   ]
  },
  {
   "cell_type": "code",
   "execution_count": 193,
   "metadata": {},
   "outputs": [
    {
     "name": "stderr",
     "output_type": "stream",
     "text": [
      "C:\\Users\\alexa\\Anaconda3\\lib\\site-packages\\sklearn\\svm\\_base.py:976: ConvergenceWarning: Liblinear failed to converge, increase the number of iterations.\n",
      "  warnings.warn(\"Liblinear failed to converge, increase \"\n",
      "C:\\Users\\alexa\\Anaconda3\\lib\\site-packages\\sklearn\\svm\\_base.py:976: ConvergenceWarning: Liblinear failed to converge, increase the number of iterations.\n",
      "  warnings.warn(\"Liblinear failed to converge, increase \"\n",
      "C:\\Users\\alexa\\Anaconda3\\lib\\site-packages\\sklearn\\svm\\_base.py:976: ConvergenceWarning: Liblinear failed to converge, increase the number of iterations.\n",
      "  warnings.warn(\"Liblinear failed to converge, increase \"\n",
      "C:\\Users\\alexa\\Anaconda3\\lib\\site-packages\\sklearn\\svm\\_base.py:976: ConvergenceWarning: Liblinear failed to converge, increase the number of iterations.\n",
      "  warnings.warn(\"Liblinear failed to converge, increase \"\n"
     ]
    },
    {
     "name": "stdout",
     "output_type": "stream",
     "text": [
      "CV average score: 0.94\n"
     ]
    },
    {
     "name": "stderr",
     "output_type": "stream",
     "text": [
      "C:\\Users\\alexa\\Anaconda3\\lib\\site-packages\\sklearn\\svm\\_base.py:976: ConvergenceWarning: Liblinear failed to converge, increase the number of iterations.\n",
      "  warnings.warn(\"Liblinear failed to converge, increase \"\n"
     ]
    }
   ],
   "source": [
    "\n",
    "cv_scores = cross_val_score(lsvc, X_train, Y_train, cv=5)\n",
    "print(\"CV average score: %.2f\" % cv_scores.mean())"
   ]
  },
  {
   "cell_type": "markdown",
   "metadata": {},
   "source": [
    "Vérifions la fiabilité de la méthode d'apprentissage avec la validation croisée, on obtient 0.94 comme précédement."
   ]
  },
  {
   "cell_type": "code",
   "execution_count": 194,
   "metadata": {},
   "outputs": [
    {
     "name": "stdout",
     "output_type": "stream",
     "text": [
      "[[   0  475]\n",
      " [   0 7802]]\n"
     ]
    }
   ],
   "source": [
    "ypred = lsvc.predict(X_test)\n",
    "cm = confusion_matrix(Y_test, ypred)\n",
    "print(cm)"
   ]
  },
  {
   "cell_type": "markdown",
   "metadata": {},
   "source": [
    "cr = classification_report(Y_test, ypred)\n",
    "print(cr)"
   ]
  },
  {
   "cell_type": "markdown",
   "metadata": {},
   "source": [
    "Parmi les 475 points de la classe 0, aucun point a été correctement prédit. Les points ont tendance à être marqué dans la classe 1. La précision a été tiré vers le haut par la classe 1, puisque tous les points ont été marqué dans la bonne classe. Entre autre, on arrive pas à prédire la classe 0."
   ]
  },
  {
   "cell_type": "code",
   "execution_count": 196,
   "metadata": {},
   "outputs": [
    {
     "name": "stdout",
     "output_type": "stream",
     "text": [
      "Score:  0.9257816039873131\n"
     ]
    },
    {
     "name": "stderr",
     "output_type": "stream",
     "text": [
      "C:\\Users\\alexa\\Anaconda3\\lib\\site-packages\\sklearn\\svm\\_base.py:976: ConvergenceWarning: Liblinear failed to converge, increase the number of iterations.\n",
      "  warnings.warn(\"Liblinear failed to converge, increase \"\n"
     ]
    }
   ],
   "source": [
    "#SVC linéaire\n",
    "\n",
    "lsvc = LinearSVC(verbose=0,class_weight='balanced')\n",
    "lsvc.fit(X_train, Y_train)\n",
    "score = lsvc.score(X_train, Y_train)\n",
    "print(\"Score: \", score)"
   ]
  },
  {
   "cell_type": "code",
   "execution_count": 197,
   "metadata": {},
   "outputs": [
    {
     "name": "stdout",
     "output_type": "stream",
     "text": [
      "[[  30  445]\n",
      " [ 179 7623]]\n",
      "              precision    recall  f1-score   support\n",
      "\n",
      "           0       0.14      0.06      0.09       475\n",
      "           1       0.94      0.98      0.96      7802\n",
      "\n",
      "    accuracy                           0.92      8277\n",
      "   macro avg       0.54      0.52      0.52      8277\n",
      "weighted avg       0.90      0.92      0.91      8277\n",
      "\n"
     ]
    }
   ],
   "source": [
    "ypred = lsvc.predict(X_test)\n",
    "cm = confusion_matrix(Y_test, ypred)\n",
    "print(cm)\n",
    "cr = classification_report(Y_test, ypred)\n",
    "print(cr)"
   ]
  },
  {
   "cell_type": "markdown",
   "metadata": {},
   "source": [
    "En rééquilibrant les classes, l'accuracy a baissé à 0.92, mais on le modèle a prédit correctement 30 points dans classe 0 alors que précédement le modèle ne prédissait aucun point dans la classe 0."
   ]
  },
  {
   "cell_type": "markdown",
   "metadata": {},
   "source": [
    "<p><span style=\"color: rgb(251, 160, 38); font-size: 16px;\"><u>Courbe ROC</u></span></p>"
   ]
  },
  {
   "cell_type": "code",
   "execution_count": 203,
   "metadata": {},
   "outputs": [
    {
     "name": "stderr",
     "output_type": "stream",
     "text": [
      "C:\\Users\\alexa\\Anaconda3\\lib\\site-packages\\sklearn\\svm\\_base.py:976: ConvergenceWarning: Liblinear failed to converge, increase the number of iterations.\n",
      "  warnings.warn(\"Liblinear failed to converge, increase \"\n"
     ]
    }
   ],
   "source": [
    "lsvc = LinearSVC(verbose=0)\n",
    "classifier_rbf=SVC(kernel='rbf', random_state = 4)\n",
    "classifier_linear=SVC(kernel='linear', random_state = 4)\n",
    "clf_tree = DecisionTreeClassifier(random_state=1)\n",
    "\n",
    "lsvc.fit(X_train, Y_train)\n",
    "classifier_rbf.fit(X_train, Y_train)\n",
    "classifier_linear.fit(X_train, Y_train)\n",
    "clf_tree.fit(X_train, Y_train)\n",
    "\n",
    "\n",
    "y_pred_lscv = lsvc.predict(X_test)\n",
    "y_pred_rbf=classifier_rbf.predict(X_test)\n",
    "y_pred_linear=classifier_linear.predict(X_test)\n",
    "y_pred_tree=clf_tree.predict(X_test)\n",
    "\n",
    "fpr_lsvc, tpr_lsvc, thresholds_lsvc= roc_curve(y_test, y_pred_lscv)\n",
    "fpr_rbf, tpr_rbf, thresholds_rbf= roc_curve(y_test, y_pred_rbf)\n",
    "fpr_svc_linear, tpr_svc_linear, thresholds_linear= roc_curve(y_test, y_pred_linear)\n",
    "fpr_svc_tree, tpr_svc_tree, thresholds_tree= roc_curve(y_test, y_pred_tree)\n",
    "\n",
    "\n",
    "#probs = clf.predict_proba(X_test)\n",
    "#preds = probs[:,1]\n",
    "#fpr, tpr, threshold = metrics.roc_curve(y_test, preds)\n",
    "roc_auc = metrics.auc(fpr_lsvc, tpr_lsvc)"
   ]
  },
  {
   "cell_type": "code",
   "execution_count": 209,
   "metadata": {},
   "outputs": [
    {
     "data": {
      "image/png": "[encoded data removed]",
      "text/plain": [
       "<Figure size 432x288 with 1 Axes>"
      ]
     },
     "metadata": {
      "needs_background": "light"
     },
     "output_type": "display_data"
    }
   ],
   "source": [
    "svc_disp = plot_roc_curve(clf_tree, X_test, y_test)\n",
    "#svc_disp = plot_roc_curve(classifier_linear, X_test, y_test)\n",
    "\n",
    "\n",
    "plt.xlim(0.9, 1)\n",
    "plt.ylim(0.9, 1)\n",
    "plt.show()"
   ]
  },
  {
   "cell_type": "code",
   "execution_count": 212,
   "metadata": {},
   "outputs": [
    {
     "data": {
      "image/png": "[encoded data removed]",
      "text/plain": [
       "<Figure size 432x288 with 1 Axes>"
      ]
     },
     "metadata": {
      "needs_background": "light"
     },
     "output_type": "display_data"
    }
   ],
   "source": [
    "plt.xlabel('False positive rate')\n",
    "plt.ylabel('True positive rate')\n",
    "plt.title('ROC curve')\n",
    "#plt.xlim(0.9, 1)\n",
    "#plt.ylim(0.9, 1)\n",
    "#plt.plot(fpr,c='blue')\n",
    "lw = 2\n",
    "plt.plot([0, 1], [0, 1], color='navy', lw=lw, linestyle='--')\n",
    "\n",
    "plt.plot(fpr_lsvc,tpr_lsvc,c='red', label='lscv')\n",
    "plt.plot(fpr_svc_tree,tpr_svc_tree,c='green', label='tree')\n",
    "plt.plot(fpr_svc_linear,tpr_svc_linear,c='yellow', label='linear')\n",
    "plt.plot(fpr_rbf,tpr_rbf,c='pink', label='rbf')\n",
    "\n",
    "plt.show()"
   ]
  },
  {
   "cell_type": "code",
   "execution_count": 215,
   "metadata": {},
   "outputs": [
    {
     "data": {
      "image/png": "[encoded data removed]",
      "text/plain": [
       "<Figure size 432x288 with 1 Axes>"
      ]
     },
     "metadata": {
      "needs_background": "light"
     },
     "output_type": "display_data"
    },
    {
     "data": {
      "image/png": "[encoded data removed]",
      "text/plain": [
       "<Figure size 432x288 with 1 Axes>"
      ]
     },
     "metadata": {
      "needs_background": "light"
     },
     "output_type": "display_data"
    },
    {
     "data": {
      "image/png": "[encoded data removed]",
      "text/plain": [
       "<Figure size 432x288 with 1 Axes>"
      ]
     },
     "metadata": {
      "needs_background": "light"
     },
     "output_type": "display_data"
    },
    {
     "data": {
      "image/png": "[encoded data removed]",
      "text/plain": [
       "<Figure size 432x288 with 1 Axes>"
      ]
     },
     "metadata": {
      "needs_background": "light"
     },
     "output_type": "display_data"
    }
   ],
   "source": [
    "svc_disp = plot_roc_curve(clf_tree, X_test, y_test)\n",
    "svc_disp = plot_roc_curve(lsvc, X_test, y_test)\n",
    "svc_disp = plot_roc_curve(classifier_rbf, X_test, y_test)\n",
    "svc_disp = plot_roc_curve(classifier_linear, X_test, y_test)\n",
    "\n",
    "plt.show()"
   ]
  },
  {
   "cell_type": "markdown",
   "metadata": {},
   "source": [
    "L'AUC est de 0,5. En d’autres termes, notre modèle est précis à 50% pour les cas et leur classification. Le modèle n’a aucune capacité de discrimination en l’espèce.\n",
    "D’après le diagramme de courbe roc AUC, la zone entre roc et l’axe est de 0,5. Ce n’est toujours pas le pire modèle, il est un peut mieux que le pure hasard.\n",
    "Cela peut être dû soit au déséquilibre des classes, soit il n'y a pas assez de corrélation entre les variables pour pouvoir classifier."
   ]
  },
  {
   "cell_type": "markdown",
   "metadata": {},
   "source": [
    "<p style=\"margin: 0cm 0cm 8pt; line-height: 107%; font-size: 15px; font-family: Calibri, sans-serif; text-align: justify;\"><br></p>\n",
    "<p style=\"margin: 0cm 0cm 8pt; line-height: 107%; font-size: 15px; font-family: Calibri, sans-serif; text-align: justify;\"><br></p>\n",
    "<p style=\"margin: 0cm 0cm 8pt; line-height: 107%; font-size: 15px; font-family: Calibri, sans-serif; text-align: justify;\"><span style=\"color: rgb(243, 121, 52);\"><strong><span style=\"font-size: 22px;\">Conclusion :</span></strong>&nbsp;</span></p>\n",
    "<p style=\"margin: 0cm 0cm 8pt; line-height: 107%; font-size: 15px; font-family: Calibri, sans-serif; text-align: justify;\"><span style=\"font-size: 17px;\">Nous avons dans ce projet &eacute;tudi&eacute; une base de donn&eacute;es r&eacute;pertoriant des esp&egrave;ces v&eacute;g&eacute;tales en x cat&eacute;gories d&apos;esp&egrave;ces. Le but &eacute;tant de comparer diff&eacute;rentes m&eacute;thodes de classification permettant de pr&eacute;dire les esp&egrave;ces. &nbsp;Pour cela nous avons appliqu&eacute; 3 m&eacute;thodes diff&eacute;rentes : Les arbres de d&eacute;cision, le Random Forest avec validation crois&eacute;e et enfin le SVM. Les r&eacute;sultats sont diff&eacute;rents en fonction des m&eacute;thodes retenues. On obtient avec les arbres de d&eacute;cision une accuracy de 0.357 et 0.943 pour 6 classes et 2 classes respectivement , avec le Random Forest on obtient une pr&eacute;cision de 0.353 et 0.941. On obtient avec le SVM une pr&eacute;cision de 0.353 lorsqu&apos;on essaie de pr&eacute;dire 6 classes et 0.94 pour 2 classes. Avec la m&eacute;thode SVM en r&eacute;&eacute;quilibrant le poids des classes, l&apos;accuracy &agrave; diminuer (0.34 et 0.92) ce qui &eacute;tait attendu. Le score d&apos;accuracy pour les 3 mod&egrave;les sont tr&egrave;s proche, que ce soit pour 6 classes ou pour 2 classes.</span></p>\n",
    "<p style=\"margin: 0cm 0cm 8pt; line-height: 107%; font-size: 15px; font-family: Calibri, sans-serif; text-align: justify;\"><br></p>"
   ]
  }
 ],
 "metadata": {
  "kernelspec": {
   "display_name": "Python 3",
   "language": "python",
   "name": "python3"
  },
  "language_info": {
   "codemirror_mode": {
    "name": "ipython",
    "version": 3
   },
   "file_extension": ".py",
   "mimetype": "text/x-python",
   "name": "python",
   "nbconvert_exporter": "python",
   "pygments_lexer": "ipython3",
   "version": "3.7.3"
  }
 },
 "nbformat": 4,
 "nbformat_minor": 4
}
